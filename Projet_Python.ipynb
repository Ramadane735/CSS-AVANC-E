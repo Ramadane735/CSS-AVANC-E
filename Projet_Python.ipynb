{
  "nbformat": 4,
  "nbformat_minor": 0,
  "metadata": {
    "colab": {
      "provenance": [],
      "authorship_tag": "ABX9TyOnnCajcJ8r7p6Nql/RgbMb",
      "include_colab_link": true
    },
    "kernelspec": {
      "name": "python3",
      "display_name": "Python 3"
    },
    "language_info": {
      "name": "python"
    }
  },
  "cells": [
    {
      "cell_type": "markdown",
      "metadata": {
        "id": "view-in-github",
        "colab_type": "text"
      },
      "source": [
        "<a href=\"https://colab.research.google.com/github/Ramadane735/CSS-AVANC-E/blob/main/Projet_Python.ipynb\" target=\"_parent\"><img src=\"https://colab.research.google.com/assets/colab-badge.svg\" alt=\"Open In Colab\"/></a>"
      ]
    },
    {
      "cell_type": "code",
      "source": [
        "import math\n",
        "\n",
        "class Calculatrice:\n",
        "    def __init__(self):\n",
        "        # Dictionnaire des opérations\n",
        "        self.operations = {\n",
        "            '+': lambda x, y: x + y,\n",
        "            '-': lambda x, y: x - y,\n",
        "            '*': lambda x, y: x * y,\n",
        "            '/': self._safe_divide\n",
        "        }\n",
        "\n",
        "    def _safe_divide(self, x, y):\n",
        "        if y == 0:\n",
        "            raise ZeroDivisionError(\"Division par zéro impossible.\")\n",
        "        return x / y\n",
        "\n",
        "    def add_operation(self, symbole, fonction):\n",
        "        \"\"\"\n",
        "        Ajoute une nouvelle opération au dictionnaire.\n",
        "        :param symbole: str, symbole de l'opération (ex: '^')\n",
        "        :param fonction: callable, fonction prenant deux arguments ou un seul pour racine\n",
        "        \"\"\"\n",
        "        self.operations[symbole] = fonction\n",
        "\n",
        "    def calculate(self, a, symbole, b=None):\n",
        "        \"\"\"\n",
        "        Effectue le calcul en fonction du symbole.\n",
        "        :param a: premier nombre\n",
        "        :param symbole: symbole de l'opération\n",
        "        :param b: second nombre (optionnel pour opérations unaires)\n",
        "        :return: résultat du calcul\n",
        "        \"\"\"\n",
        "        # Vérifions le symbole\n",
        "        if symbole not in self.operations:\n",
        "            raise ValueError(f\"Opération '{symbole}' non reconnue.\")\n",
        "\n",
        "        # Vérifions les types\n",
        "        if not isinstance(a, (int, float)):\n",
        "            raise TypeError(f\"L'opérande {a} n'est pas un nombre.\")\n",
        "        if b is not None and not isinstance(b, (int, float)):\n",
        "            raise TypeError(f\"L'opérande {b} n'est pas un nombre.\")\n",
        "\n",
        "        operation = self.operations[symbole]\n",
        "\n",
        "        # Appelons la fonction appropriée\n",
        "        try:\n",
        "            if b is None:\n",
        "                # Opération unaire (ex: racine)\n",
        "                return operation(a)\n",
        "            else:\n",
        "                return operation(a, b)\n",
        "        except Exception as e:\n",
        "            print(f\"Erreur lors du calcul: {e}\")\n",
        "            raise\n",
        "\n",
        "\n",
        "# Les Fonctions avancées\n",
        "\n",
        "def exponentiation(x, y):\n",
        "    return math.pow(x, y)\n",
        "\n",
        "\n",
        "def racine_carre(x):\n",
        "    if x < 0:\n",
        "        raise ValueError(\"Impossible de calculer la racine carrée d'un nombre négatif.\")\n",
        "    return math.sqrt(x)\n",
        "\n",
        "\n",
        "def logarithme(x, base=math.e):\n",
        "    if x <= 0:\n",
        "        raise ValueError(\"Le logarithme n'est défini que pour les réels positifs.\")\n",
        "    return math.log(x, base)\n",
        "\n",
        "\n",
        "if __name__ == \"__main__\":\n",
        "    calc = Calculatrice()\n",
        "    # Ajoutons des opérations avancées\n",
        "    calc.add_operation('^', exponentiation)\n",
        "    calc.add_operation('sqrt', racine_carre)\n",
        "    # Pour le logarithme, on utilise une lambda pour fixer la base ou demander\n",
        "    calc.add_operation('log', logarithme)\n",
        "\n",
        "    print(\"=== Calculatrice Avancée ===\")\n",
        "    while True:\n",
        "        try:\n",
        "            entree = input(\"Entrez votre calcul (ex: 2 + 3), ou 'q' pour quitter: \")\n",
        "            if entree.lower() in ('q', 'quit', 'exit'):\n",
        "                print(\"Au revoir !\")\n",
        "                break\n",
        "\n",
        "            parts = entree.split()\n",
        "            if len(parts) == 2:\n",
        "                a_str, op = parts\n",
        "                a = float(a_str)\n",
        "                result = calc.calculate(a, op)\n",
        "            elif len(parts) == 3:\n",
        "                a_str, op, b_str = parts\n",
        "                a = float(a_str)\n",
        "                b = float(b_str)\n",
        "                # pour log avec base personnalisée: 'log 8 2'\n",
        "                if op == 'log':\n",
        "                    result = calc.calculate(a, op, b)\n",
        "                else:\n",
        "                    result = calc.calculate(a, op, b)\n",
        "            else:\n",
        "                print(\"Format invalide. Utilisez: nombre opérateur nombre, ou opérateur nombre pour unaire.\")\n",
        "                continue\n",
        "\n",
        "            print(f\"Résultat: {result}\")\n",
        "        except Exception as e:\n",
        "            print(f\">> {e}\")\n"
      ],
      "metadata": {
        "colab": {
          "base_uri": "https://localhost:8080/"
        },
        "id": "OTaklqGz0z1R",
        "outputId": "efccbe35-7bf8-4ae6-8406-99407f45fc89"
      },
      "execution_count": null,
      "outputs": [
        {
          "output_type": "stream",
          "name": "stdout",
          "text": [
            "=== Calculatrice Avancée ===\n"
          ]
        }
      ]
    }
  ]
}