{
  "nbformat": 4,
  "nbformat_minor": 0,
  "metadata": {
    "colab": {
      "provenance": [],
      "authorship_tag": "ABX9TyMDCVZshnKAg++dhltZgKOf",
      "include_colab_link": true
    },
    "kernelspec": {
      "name": "python3",
      "display_name": "Python 3"
    },
    "language_info": {
      "name": "python"
    }
  },
  "cells": [
    {
      "cell_type": "markdown",
      "metadata": {
        "id": "view-in-github",
        "colab_type": "text"
      },
      "source": [
        "<a href=\"https://colab.research.google.com/github/Ramadane735/CSS-AVANC-E/blob/main/Checkpoint_sur_Dataframe_Filtering_and_Selection_using_iloc_and_loc.ipynb\" target=\"_parent\"><img src=\"https://colab.research.google.com/assets/colab-badge.svg\" alt=\"Open In Colab\"/></a>"
      ]
    },
    {
      "cell_type": "markdown",
      "source": [
        "#**Création du DataFrame**"
      ],
      "metadata": {
        "id": "kpbYTHclejA9"
      }
    },
    {
      "cell_type": "code",
      "source": [
        "import pandas as pd\n",
        "\n",
        "data = {\n",
        "    'Name'       : ['Saliou', 'Awa', 'Mouhamed', 'Fatou', 'Bamba', 'Diarra'],\n",
        "    'Department' : ['Finance', 'Marketing', 'Gestion', 'Finance', 'Gestion', 'Marketing'],\n",
        "    'Age'        : [30, 40, 25, 35, 45, 28],\n",
        "    'Sexe'       : ['Homme', 'Femme', 'Homme', 'Femme', 'Homme', 'Femme'],\n",
        "    'Salaire'    : [50000, 60000, 45000, 55000, 70000, 55000],\n",
        "    'Expérience' : [3, 7, 2, 5, 10, 4]\n",
        "}\n",
        "\n",
        "employee_df = pd.DataFrame(data)\n"
      ],
      "metadata": {
        "id": "8Z-f_M9ze8bZ"
      },
      "execution_count": 1,
      "outputs": []
    },
    {
      "cell_type": "markdown",
      "source": [
        "#**Sélections avec iloc**"
      ],
      "metadata": {
        "id": "PzkH9TX7fxAb"
      }
    },
    {
      "cell_type": "code",
      "source": [
        "#   On récupére les lignes d’index 0, 1 et 2 des trois premiers lignes\n",
        "\n",
        "first_three = employee_df.iloc[0:3]\n",
        "print(first_three)\n"
      ],
      "metadata": {
        "colab": {
          "base_uri": "https://localhost:8080/"
        },
        "id": "XZvZe6SHf-Jj",
        "outputId": "44b41cb9-618a-4e24-86ba-58f16219a387"
      },
      "execution_count": 2,
      "outputs": [
        {
          "output_type": "stream",
          "name": "stdout",
          "text": [
            "       Name Department  Age   Sexe  Salaire  Expérience\n",
            "0    Saliou    Finance   30  Homme    50000           3\n",
            "1       Awa  Marketing   40  Femme    60000           7\n",
            "2  Mouhamed    Gestion   25  Homme    45000           2\n"
          ]
        }
      ]
    },
    {
      "cell_type": "code",
      "source": [
        "#  On sélectionne les lignes d’index 0 à 3 puis on isole les colonnes par position ou par nom\n",
        "\n",
        "# 1: par positions de colonnes\n",
        "age_sexe_pos = employee_df.iloc[0:4, [2, 3]]\n",
        "print(age_sexe_pos)\n",
        "\n",
        "# 2: par noms de colonnes\n",
        "age_sexe_nom = employee_df.iloc[0:4][['Age', 'Sexe']]\n",
        "print(age_sexe_nom)\n"
      ],
      "metadata": {
        "colab": {
          "base_uri": "https://localhost:8080/"
        },
        "id": "nM69xhuJg6eF",
        "outputId": "1db681de-f318-464d-b0a7-fe7a96870d03"
      },
      "execution_count": 3,
      "outputs": [
        {
          "output_type": "stream",
          "name": "stdout",
          "text": [
            "   Age   Sexe\n",
            "0   30  Homme\n",
            "1   40  Femme\n",
            "2   25  Homme\n",
            "3   35  Femme\n",
            "   Age   Sexe\n",
            "0   30  Homme\n",
            "1   40  Femme\n",
            "2   25  Homme\n",
            "3   35  Femme\n"
          ]
        }
      ]
    },
    {
      "cell_type": "markdown",
      "source": [
        "#**Sélections avec loc**"
      ],
      "metadata": {
        "id": "kMiKYT6BiAW9"
      }
    },
    {
      "cell_type": "code",
      "source": [
        "# On Filtre toutes les colonnes du département Marketing\n",
        "\n",
        "marketing_df = employee_df.loc[ employee_df['Department'] == 'Marketing' ]\n",
        "print(marketing_df)\n"
      ],
      "metadata": {
        "colab": {
          "base_uri": "https://localhost:8080/"
        },
        "id": "dO3Sk8XuiGj3",
        "outputId": "b83c2224-e2cf-448c-c0cc-20ed989e47c1"
      },
      "execution_count": 4,
      "outputs": [
        {
          "output_type": "stream",
          "name": "stdout",
          "text": [
            "     Name Department  Age   Sexe  Salaire  Expérience\n",
            "1     Awa  Marketing   40  Femme    60000           7\n",
            "5  Diarra  Marketing   28  Femme    55000           4\n"
          ]
        }
      ]
    },
    {
      "cell_type": "code",
      "source": [
        "# On récupère les colonnes Salaire et Expérience pour les hommes\n",
        "\n",
        "hommes_salaire_exp = employee_df.loc[\n",
        "    employee_df['Sexe'] == 'Homme',\n",
        "    ['Salaire', 'Expérience']\n",
        "]\n",
        "print(hommes_salaire_exp)\n"
      ],
      "metadata": {
        "colab": {
          "base_uri": "https://localhost:8080/"
        },
        "id": "wu0I40U-jSLb",
        "outputId": "ad34c5b7-d166-419b-cb97-a28dd669f991"
      },
      "execution_count": 5,
      "outputs": [
        {
          "output_type": "stream",
          "name": "stdout",
          "text": [
            "   Salaire  Expérience\n",
            "0    50000           3\n",
            "2    45000           2\n",
            "4    70000          10\n"
          ]
        }
      ]
    }
  ]
}