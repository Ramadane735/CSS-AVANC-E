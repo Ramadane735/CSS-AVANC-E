{
  "nbformat": 4,
  "nbformat_minor": 0,
  "metadata": {
    "colab": {
      "provenance": [],
      "authorship_tag": "ABX9TyMb5KaV/cIMItfC1/m4Cx57",
      "include_colab_link": true
    },
    "kernelspec": {
      "name": "python3",
      "display_name": "Python 3"
    },
    "language_info": {
      "name": "python"
    }
  },
  "cells": [
    {
      "cell_type": "markdown",
      "metadata": {
        "id": "view-in-github",
        "colab_type": "text"
      },
      "source": [
        "<a href=\"https://colab.research.google.com/github/Ramadane735/CSS-AVANC-E/blob/main/Checkpoint_Creating_a_Bank_Account.ipynb\" target=\"_parent\"><img src=\"https://colab.research.google.com/assets/colab-badge.svg\" alt=\"Open In Colab\"/></a>"
      ]
    },
    {
      "cell_type": "code",
      "source": [
        "class Compte:\n",
        "    def __init__(self, numero: str, titulaire: str, balance: float = 0.0):\n",
        "        self.numero = numero\n",
        "        self.titulaire = titulaire\n",
        "        self.balance = balance\n",
        "\n",
        "    def depot(self, montant: float):\n",
        "        if montant > 0:\n",
        "            self.balance += montant\n",
        "            print(f\"Dépôt de {montant:.2f}Fcfa effectué. Nouveau solde : {self.balance:.2f}Fcfa\")\n",
        "        else:\n",
        "            print(\"Le montant du dépôt doit être positif.\")\n",
        "\n",
        "    def retirer(self, montant: float):\n",
        "        if montant <= 0:\n",
        "            print(\"Le montant du retrait doit être supérieur à zéro.\")\n",
        "        elif self.balance >= montant:\n",
        "            self.balance -= montant\n",
        "            print(f\"Retrait de {montant:.2f}Fcfa effectué. Nouveau solde : {self.balance:.2f}Fcfa\")\n",
        "        else:\n",
        "            print(\"Fonds insuffisants pour effectuer ce retrait.\")\n",
        "\n",
        "    def verifier_balance(self):\n",
        "        print(f\"Solde actuel du compte {self.numero} : {self.balance:.2f}Fcfa\")\n",
        "        return self.balance\n",
        "\n",
        "\n",
        "# Tests\n",
        "\n",
        "if __name__ == \"__main__\":\n",
        "    # Création de comptes\n",
        "    mon_compte = Compte(\"FR123\", \"Fatoumata\", 200000.0)\n",
        "    compte_Mouhamed = Compte(\"FR456\", \"Mouhamed\", 250000.0)\n",
        "\n",
        "    # Transactions pour Fatoumata\n",
        "    print(\"\\n--- Transactions de Fatoumata ---\")\n",
        "    mon_compte.depot(100000)\n",
        "    mon_compte.retirer(30000)\n",
        "    mon_compte.verifier_balance()\n",
        "\n",
        "    # Transactions pour Mouhamed\n",
        "    print(\"\\n--- Transactions de Mouhamed ---\")\n",
        "    compte_Mouhamed.depot(150000)\n",
        "    compte_Mouhamed.retirer(400000)  # Doit echouer\n",
        "    compte_Mouhamed.retirer(130000)\n",
        "    compte_Mouhamed.verifier_balance()\n",
        "\n",
        "    # Exemple de tentative de retrait négatif\n",
        "    print(\"\\n--- Tentative de retrait négatif ---\")\n",
        "    mon_compte.retirer(-20000)\n"
      ],
      "metadata": {
        "colab": {
          "base_uri": "https://localhost:8080/"
        },
        "id": "xpdYrvJA_4-i",
        "outputId": "7f4f64cc-474c-463b-cd7b-ef84f00a898a"
      },
      "execution_count": 1,
      "outputs": [
        {
          "output_type": "stream",
          "name": "stdout",
          "text": [
            "\n",
            "--- Transactions de Fatoumata ---\n",
            "Dépôt de 100000.00Fcfa effectué. Nouveau solde : 300000.00Fcfa\n",
            "Retrait de 30000.00Fcfa effectué. Nouveau solde : 270000.00Fcfa\n",
            "Solde actuel du compte FR123 : 270000.00Fcfa\n",
            "\n",
            "--- Transactions de Mouhamed ---\n",
            "Dépôt de 150000.00Fcfa effectué. Nouveau solde : 400000.00Fcfa\n",
            "Retrait de 400000.00Fcfa effectué. Nouveau solde : 0.00Fcfa\n",
            "Fonds insuffisants pour effectuer ce retrait.\n",
            "Solde actuel du compte FR456 : 0.00Fcfa\n",
            "\n",
            "--- Tentative de retrait négatif ---\n",
            "Le montant du retrait doit être supérieur à zéro.\n"
          ]
        }
      ]
    }
  ]
}