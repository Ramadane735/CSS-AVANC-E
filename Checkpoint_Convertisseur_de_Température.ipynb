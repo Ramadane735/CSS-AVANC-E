{
  "nbformat": 4,
  "nbformat_minor": 0,
  "metadata": {
    "colab": {
      "provenance": [],
      "authorship_tag": "ABX9TyPCiyKFCu500ETox6wVOMz/",
      "include_colab_link": true
    },
    "kernelspec": {
      "name": "python3",
      "display_name": "Python 3"
    },
    "language_info": {
      "name": "python"
    }
  },
  "cells": [
    {
      "cell_type": "markdown",
      "metadata": {
        "id": "view-in-github",
        "colab_type": "text"
      },
      "source": [
        "<a href=\"https://colab.research.google.com/github/Ramadane735/CSS-AVANC-E/blob/main/Checkpoint_Convertisseur_de_Temp%C3%A9rature.ipynb\" target=\"_parent\"><img src=\"https://colab.research.google.com/assets/colab-badge.svg\" alt=\"Open In Colab\"/></a>"
      ]
    },
    {
      "cell_type": "code",
      "execution_count": null,
      "metadata": {
        "colab": {
          "base_uri": "https://localhost:8080/"
        },
        "id": "ZJl3WMARKOm2",
        "outputId": "04429106-f6b2-4438-950d-79b5aff590c8"
      },
      "outputs": [
        {
          "output_type": "stream",
          "name": "stdout",
          "text": [
            "\r0% [Working]\r            \rHit:1 http://archive.ubuntu.com/ubuntu jammy InRelease\n",
            "\r0% [Connecting to security.ubuntu.com (185.125.190.83)] [Waiting for headers] [\r                                                                               \rGet:2 https://cloud.r-project.org/bin/linux/ubuntu jammy-cran40/ InRelease [3,632 B]\n",
            "\r                                                                               \rGet:3 https://developer.download.nvidia.com/compute/cuda/repos/ubuntu2204/x86_64  InRelease [1,581 B]\n",
            "Get:4 http://archive.ubuntu.com/ubuntu jammy-updates InRelease [128 kB]\n",
            "Get:5 https://r2u.stat.illinois.edu/ubuntu jammy InRelease [6,555 B]\n",
            "Get:6 http://security.ubuntu.com/ubuntu jammy-security InRelease [129 kB]\n",
            "Get:7 http://archive.ubuntu.com/ubuntu jammy-backports InRelease [127 kB]\n",
            "Hit:8 https://ppa.launchpadcontent.net/deadsnakes/ppa/ubuntu jammy InRelease\n",
            "Get:9 https://developer.download.nvidia.com/compute/cuda/repos/ubuntu2204/x86_64  Packages [1,683 kB]\n",
            "Hit:10 https://ppa.launchpadcontent.net/graphics-drivers/ppa/ubuntu jammy InRelease\n",
            "Get:11 https://r2u.stat.illinois.edu/ubuntu jammy/main amd64 Packages [2,729 kB]\n",
            "Get:12 https://ppa.launchpadcontent.net/ubuntugis/ppa/ubuntu jammy InRelease [24.6 kB]\n",
            "Get:13 http://archive.ubuntu.com/ubuntu jammy-updates/main amd64 Packages [3,255 kB]\n",
            "Get:14 https://r2u.stat.illinois.edu/ubuntu jammy/main all Packages [8,958 kB]\n",
            "Get:15 http://archive.ubuntu.com/ubuntu jammy-updates/restricted amd64 Packages [4,540 kB]\n",
            "Get:16 http://archive.ubuntu.com/ubuntu jammy-updates/universe amd64 Packages [1,547 kB]\n",
            "Get:17 http://archive.ubuntu.com/ubuntu jammy-backports/universe amd64 Packages [35.2 kB]\n",
            "Get:18 http://archive.ubuntu.com/ubuntu jammy-backports/main amd64 Packages [83.2 kB]\n",
            "Get:19 http://security.ubuntu.com/ubuntu jammy-security/main amd64 Packages [2,944 kB]\n",
            "Get:20 https://ppa.launchpadcontent.net/ubuntugis/ppa/ubuntu jammy/main amd64 Packages [77.3 kB]\n",
            "Get:21 http://security.ubuntu.com/ubuntu jammy-security/restricted amd64 Packages [4,387 kB]\n",
            "Get:22 http://security.ubuntu.com/ubuntu jammy-security/universe amd64 Packages [1,245 kB]\n",
            "Fetched 31.9 MB in 3s (9,651 kB/s)\n",
            "Reading package lists... Done\n",
            "W: Skipping acquire of configured file 'main/source/Sources' as repository 'https://r2u.stat.illinois.edu/ubuntu jammy InRelease' does not seem to provide it (sources.list entry misspelt?)\n",
            "Reading package lists... Done\n",
            "Building dependency tree... Done\n",
            "Reading state information... Done\n",
            "xvfb is already the newest version (2:21.1.4-2ubuntu1.7~22.04.14).\n",
            "0 upgraded, 0 newly installed, 0 to remove and 89 not upgraded.\n"
          ]
        }
      ],
      "source": [
        "# Installez Xvfb et les dépendances si ce n'est pas déjà fait\n",
        "!apt-get update && apt-get install -y xvfb\n",
        "\n",
        "# Démarrez Xvfb sur l'affichage 99\n",
        "# Cela crée un affichage virtuel où la fenêtre Tkinter peut être rendue\n",
        "!Xvfb :99 -screen 0 1024x768x24 &\n",
        "\n",
        "# Définissez la variable d'environnement DISPLAY pour pointer vers l'affichage virtuel\n",
        "# Cela indique à Tkinter d'utiliser l'affichage virtuel\n",
        "import os\n",
        "os.environ['DISPLAY'] = ':99.0'\n",
        "\n",
        "\n",
        "import tkinter as tk\n",
        "\n",
        "# Fonction de conversion Fahrenheit -> Celsius\n",
        "def fahrenheit_to_celsius():\n",
        "    try:\n",
        "        # Je récupère la valeur saisie et la convertit en float\n",
        "        f = float(ent_temperature.get())\n",
        "        # on essaie la conversion\n",
        "        c = (f - 32) * 5 / 9\n",
        "        # Je vais arrondir à 2 décimales\n",
        "        c = round(c, 2)\n",
        "        # On va afficher le résultat\n",
        "        lbl_result.config(text=f\"{c}\\N{DEGREE CELSIUS}\")\n",
        "    except ValueError:\n",
        "        lbl_result.config(text=\"Entrée invalide\")\n",
        "\n",
        "# Création de la fenêtre principale\n",
        "window = tk.Tk()\n",
        "window.title(\"Convertisseur de Température\")\n",
        "# Fenêtre non redimensionnable\n",
        "window.resizable(width=False, height=False)\n",
        "\n",
        "# Cadre pour l'entrée et le label de la température Fahrenheit\n",
        "frm_entry = tk.Frame(master=window)\n",
        "# Widget d'entrée pour la température\n",
        "ent_temperature = tk.Entry(master=frm_entry, width=10)\n",
        "# Label pour le symbole °F\n",
        "lbl_temp = tk.Label(master=frm_entry, text=\"\\N{DEGREE FAHRENHEIT}\")\n",
        "\n",
        "# Placement avec grid\n",
        "ent_temperature.grid(row=0, column=0, sticky=\"e\")\n",
        "lbl_temp.grid(row=0, column=1, sticky=\"w\")\n",
        "\n",
        "# Bouton de conversion\n",
        "btn_convert = tk.Button(master=window, text=\"\\N{RIGHTWARDS BLACK ARROW}\", command=fahrenheit_to_celsius)\n",
        "# Label pour afficher le résultat en °C\n",
        "lbl_result = tk.Label(master=window, text=\"\\N{DEGREE CELSIUS}\")\n",
        "\n",
        "# Disposition générale\n",
        "frm_entry.grid(row=0, column=0, padx=10)\n",
        "btn_convert.grid(row=0, column=1, pady=10)\n",
        "lbl_result.grid(row=0, column=2, padx=10)\n",
        "\n",
        "# Démarrage de l'application\n",
        "window.mainloop()\n"
      ]
    }
  ]
}