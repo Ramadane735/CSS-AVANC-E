{
  "cells": [
    {
      "cell_type": "markdown",
      "metadata": {
        "id": "view-in-github",
        "colab_type": "text"
      },
      "source": [
        "<a href=\"https://colab.research.google.com/github/Ramadane735/CSS-AVANC-E/blob/main/classe_3.ipynb\" target=\"_parent\"><img src=\"https://colab.research.google.com/assets/colab-badge.svg\" alt=\"Open In Colab\"/></a>"
      ]
    },
    {
      "cell_type": "code",
      "execution_count": null,
      "id": "ab20bfcf",
      "metadata": {
        "id": "ab20bfcf",
        "outputId": "8c52f1fe-be5b-4334-8608-cd62a3f3898d"
      },
      "outputs": [
        {
          "name": "stdout",
          "output_type": "stream",
          "text": [
            "Enter the number105\n",
            "greater than hunderd\n"
          ]
        }
      ],
      "source": [
        "# if statement\n",
        "\n",
        "val = input(\"Enter the number\")\n",
        "#value inputted using input() function is in string data type. so, we need typecasting\n",
        "value_float = float(val)\n",
        "if(value_float > 100):\n",
        "    print(\"greater than hunderd\")"
      ]
    },
    {
      "cell_type": "code",
      "source": [],
      "metadata": {
        "id": "nAjbDxzZVBh9"
      },
      "id": "nAjbDxzZVBh9",
      "execution_count": null,
      "outputs": []
    },
    {
      "cell_type": "code",
      "execution_count": null,
      "id": "63b332ed",
      "metadata": {
        "id": "63b332ed",
        "outputId": "21230922-3ca2-44de-949e-ed8f11bfaea0"
      },
      "outputs": [
        {
          "name": "stdout",
          "output_type": "stream",
          "text": [
            "Enter the no2\n",
            "even\n"
          ]
        }
      ],
      "source": [
        "value = int(input(\"Enter the no\"))\n",
        "if(value % 2 == 0):\n",
        "    print(\"even\")\n",
        "else:\n",
        "    print(\"odd\")"
      ]
    },
    {
      "cell_type": "code",
      "execution_count": null,
      "id": "3750995c",
      "metadata": {
        "id": "3750995c",
        "outputId": "5753cfa1-2680-4794-9e9b-3eda0351351f"
      },
      "outputs": [
        {
          "name": "stdout",
          "output_type": "stream",
          "text": [
            "Enter your age: 22\n",
            "Eligible to vote\n"
          ]
        }
      ],
      "source": [
        "# Age form\n",
        "age = float(input(\"Enter your age: \"))\n",
        "if(age<18):\n",
        "    print(\"You are not eligible to vote\")\n",
        "else:\n",
        "    print(\"Eligible to vote\")"
      ]
    },
    {
      "cell_type": "code",
      "execution_count": null,
      "id": "ff0363d7",
      "metadata": {
        "id": "ff0363d7",
        "outputId": "f0a1634c-2a9a-48b5-e1f1-43e5e2f7bfbc"
      },
      "outputs": [
        {
          "name": "stdout",
          "output_type": "stream",
          "text": [
            "Enter your age: 65\n",
            "Senior Citizen\n"
          ]
        }
      ],
      "source": [
        "# if-elif-else\n",
        "# Age form\n",
        "age = float(input(\"Enter your age: \"))\n",
        "if(age<18):\n",
        "    print(\"Minor Age\")\n",
        "elif(age >= 18 and age<= 45):\n",
        "    print(\"Mid-Age\")\n",
        "elif(age>45 and age<= 60):\n",
        "    print(\"Senior Mid Age\")\n",
        "else:\n",
        "    print(\"Senior Citizen\")"
      ]
    },
    {
      "cell_type": "code",
      "execution_count": null,
      "id": "93af7275",
      "metadata": {
        "id": "93af7275",
        "outputId": "e5761a8b-dc22-4602-d4c0-51ef43ab31d7"
      },
      "outputs": [
        {
          "name": "stdout",
          "output_type": "stream",
          "text": [
            "Enter your age: 15\n",
            "You are in college, Minor age\n"
          ]
        }
      ],
      "source": [
        "# nested if else\n",
        "age = float(input(\"Enter your age: \"))\n",
        "if(age<18):\n",
        "    if(age<15):\n",
        "        print(\"You are in school, Minor age\")\n",
        "    else:\n",
        "        print(\"You are in college, Minor age\")\n",
        "elif(age >= 18 and age<= 45):\n",
        "    print(\"Mid-Age\")\n",
        "elif(age>45 and age<= 60):\n",
        "    print(\"Senior Mid Age\")\n",
        "else:\n",
        "    print(\"Senior Citizen\")"
      ]
    },
    {
      "cell_type": "code",
      "execution_count": null,
      "id": "ca07424a",
      "metadata": {
        "id": "ca07424a"
      },
      "outputs": [],
      "source": [
        "# Loop statements"
      ]
    },
    {
      "cell_type": "code",
      "execution_count": null,
      "id": "3ee62f09",
      "metadata": {
        "id": "3ee62f09",
        "outputId": "6c5f0f9b-a50d-4a18-eaf5-02a64e23a05d"
      },
      "outputs": [
        {
          "name": "stdout",
          "output_type": "stream",
          "text": [
            "1\n",
            "2\n",
            "3\n",
            "4\n",
            "5\n"
          ]
        }
      ],
      "source": [
        "#for loop\n",
        "lst = [1,2,3,4,5]\n",
        "for i in lst:\n",
        "    print (i)"
      ]
    },
    {
      "cell_type": "code",
      "execution_count": null,
      "id": "36a04a99",
      "metadata": {
        "id": "36a04a99",
        "outputId": "a716f2cd-f939-4d0d-c21f-cd47bc529b2f"
      },
      "outputs": [
        {
          "name": "stdout",
          "output_type": "stream",
          "text": [
            "1\n",
            "4\n",
            "9\n",
            "16\n",
            "25\n"
          ]
        }
      ],
      "source": [
        "lst = [1,2,3,4,5]\n",
        "for i in lst:\n",
        "    print (i*i)"
      ]
    },
    {
      "cell_type": "code",
      "execution_count": null,
      "id": "6fc44719",
      "metadata": {
        "id": "6fc44719",
        "outputId": "a3fc19a9-c70d-4ce9-e4ad-ab6742bd0f61"
      },
      "outputs": [
        {
          "name": "stdout",
          "output_type": "stream",
          "text": [
            "55\n"
          ]
        }
      ],
      "source": [
        "# find the sum of all the elements in the list\n",
        "list = [1,2,3,4,5,6,7,8,9,10]\n",
        "sum1 = 0\n",
        "for i in list:\n",
        "    sum1+=i\n",
        "print(sum1)"
      ]
    },
    {
      "cell_type": "code",
      "execution_count": null,
      "id": "f1042956",
      "metadata": {
        "id": "f1042956",
        "outputId": "f800cbc1-d288-424f-feb9-21194606038f"
      },
      "outputs": [
        {
          "name": "stdout",
          "output_type": "stream",
          "text": [
            "Even sum is 30 and odd sum is 25\n"
          ]
        }
      ],
      "source": [
        "# find the sum of even and odd number\n",
        "list1 = [1,2,3,4,5,6,7,8,9,10]\n",
        "even_sum = 0\n",
        "odd_sum = 0\n",
        "for i in list1:\n",
        "    if(i%2 == 0):\n",
        "        even_sum += i\n",
        "    else:\n",
        "        odd_sum += i\n",
        "print(\"Even sum is {} and odd sum is {}\". format(even_sum, odd_sum))"
      ]
    },
    {
      "cell_type": "code",
      "execution_count": null,
      "id": "82d016ab",
      "metadata": {
        "id": "82d016ab",
        "outputId": "733105da-3f92-4ae5-ba00-49ecfa39ebe9"
      },
      "outputs": [
        {
          "name": "stdout",
          "output_type": "stream",
          "text": [
            "0\n",
            "1\n",
            "2\n",
            "3\n",
            "4\n",
            "5\n",
            "6\n",
            "7\n",
            "8\n",
            "9\n",
            "10\n"
          ]
        }
      ],
      "source": [
        "# while loops\n",
        "i = 0\n",
        "while(i<=10):\n",
        "    print(i)\n",
        "    i = i+1"
      ]
    },
    {
      "cell_type": "code",
      "execution_count": null,
      "id": "95e01c72",
      "metadata": {
        "id": "95e01c72",
        "outputId": "5ba80628-1880-48f7-e8ac-6704e297bb55"
      },
      "outputs": [
        {
          "name": "stdout",
          "output_type": "stream",
          "text": [
            "1\n",
            "2\n",
            "3\n",
            "4\n"
          ]
        }
      ],
      "source": [
        "# break\n",
        "x = 1\n",
        "while(x<7):\n",
        "    print(x)\n",
        "    if(x == 4):\n",
        "        break\n",
        "    x=x+1"
      ]
    },
    {
      "cell_type": "code",
      "execution_count": null,
      "id": "167f1b8f",
      "metadata": {
        "id": "167f1b8f",
        "outputId": "de0a3f9d-bd15-46bc-a102-11cb95a07f74"
      },
      "outputs": [
        {
          "name": "stdout",
          "output_type": "stream",
          "text": [
            "1\n",
            "2\n",
            "3\n",
            "5\n",
            "6\n",
            "7\n"
          ]
        }
      ],
      "source": [
        "# continue\n",
        "x = 0\n",
        "while x<7:\n",
        "    x = x+1\n",
        "    if x==4:\n",
        "        continue\n",
        "    print(x)"
      ]
    },
    {
      "cell_type": "code",
      "execution_count": null,
      "id": "4dec10c6",
      "metadata": {
        "id": "4dec10c6",
        "outputId": "efc31d6c-28a8-4c9f-d21d-93f59cbc5979"
      },
      "outputs": [
        {
          "name": "stdout",
          "output_type": "stream",
          "text": [
            "2\n",
            "4\n",
            "6\n",
            "8\n",
            "10\n",
            "12\n",
            "14\n",
            "16\n",
            "18\n",
            "20\n",
            "22\n",
            "24\n",
            "26\n",
            "28\n",
            "30\n",
            "32\n",
            "34\n",
            "36\n",
            "38\n",
            "40\n",
            "42\n",
            "44\n",
            "46\n",
            "48\n"
          ]
        }
      ],
      "source": [
        "# printing even numbers\n",
        "for i in range(1,50):\n",
        "    if(i % 2 == 0):\n",
        "        print(i)"
      ]
    },
    {
      "cell_type": "code",
      "execution_count": null,
      "id": "ed3130df",
      "metadata": {
        "id": "ed3130df",
        "outputId": "138540cb-30e8-4d63-b500-ce9e5d3ceda5"
      },
      "outputs": [
        {
          "name": "stdout",
          "output_type": "stream",
          "text": [
            "Enter the number5\n",
            "120\n"
          ]
        }
      ],
      "source": [
        "# factorial calculation\n",
        "fact = 1\n",
        "n = int(input(\"Enter the number\"))\n",
        "i = n\n",
        "while(i != 0):\n",
        "    fact = fact*i\n",
        "    i = i-1\n",
        "print(fact)"
      ]
    },
    {
      "cell_type": "code",
      "execution_count": null,
      "id": "b85e38d0",
      "metadata": {
        "id": "b85e38d0",
        "outputId": "dfea7863-e0ba-4d83-bdee-a2d6c38d9f1d"
      },
      "outputs": [
        {
          "name": "stdout",
          "output_type": "stream",
          "text": [
            "Enter the number5\n",
            "Sum is 15\n"
          ]
        }
      ],
      "source": [
        "#Python program that asks the user for a positive integer and then calculates the sum of all numbers from 1 to that integer using a for loop.\n",
        "num = int(input(\"Enter the number\"))\n",
        "sum1 = 0\n",
        "for i in range(1, num+1):\n",
        "    sum1 += i\n",
        "print(\"Sum is {}\".format(sum1))"
      ]
    },
    {
      "cell_type": "code",
      "execution_count": null,
      "id": "7d1c2fb1",
      "metadata": {
        "id": "7d1c2fb1",
        "outputId": "c3a8d226-c28d-4ee9-9d61-0f49610fd3b6"
      },
      "outputs": [
        {
          "name": "stdout",
          "output_type": "stream",
          "text": [
            "How many terms of fibonacci series you want to print?10\n",
            "0\n",
            "1\n",
            "1\n",
            "2\n",
            "3\n",
            "5\n",
            "8\n",
            "13\n",
            "21\n",
            "34\n",
            "55\n"
          ]
        }
      ],
      "source": [
        "# Fibanacci sequence\n",
        "n = int(input(\"How many terms of fibonacci series you want to print?\"))\n",
        "a=0\n",
        "b=1\n",
        "print(a)\n",
        "print(b)\n",
        "for i in range(n-1):\n",
        "    c= a+b\n",
        "    print(c)\n",
        "    a=b\n",
        "    b = c\n",
        "\n"
      ]
    },
    {
      "cell_type": "code",
      "execution_count": null,
      "id": "7b43cbaf",
      "metadata": {
        "id": "7b43cbaf",
        "outputId": "6123d4d8-4832-4484-fd17-b27830a4cdcd"
      },
      "outputs": [
        {
          "name": "stdout",
          "output_type": "stream",
          "text": [
            "Enter the number: 12\n",
            "12 * 1 = 12\n",
            "12 * 2 = 24\n",
            "12 * 3 = 36\n",
            "12 * 4 = 48\n",
            "12 * 5 = 60\n",
            "12 * 6 = 72\n",
            "12 * 7 = 84\n",
            "12 * 8 = 96\n",
            "12 * 9 = 108\n",
            "12 * 10 = 120\n"
          ]
        }
      ],
      "source": [
        "#  Python program to print the multiplication table of a given number using a nested for loop.\n",
        "num = int(input(\"Enter the number: \"))\n",
        "for i in range(10):\n",
        "    print(\"{} * {} = {}\".format(num,i+1, num*(i+1)))"
      ]
    },
    {
      "cell_type": "code",
      "execution_count": null,
      "id": "ff23292b",
      "metadata": {
        "id": "ff23292b",
        "outputId": "be060930-4e51-4b38-c72b-42a91d6472f6"
      },
      "outputs": [
        {
          "name": "stdout",
          "output_type": "stream",
          "text": [
            "\n",
            "\n",
            "* \n",
            "\n",
            "* * \n",
            "\n",
            "* * * \n",
            "\n",
            "* * * * \n",
            "\n",
            "* * * * * \n",
            "\n"
          ]
        }
      ],
      "source": [
        "# pattern printing\n",
        "for i in range(6):\n",
        "    for j in range(i):\n",
        "        print(\"*\", end=\" \")\n",
        "    print(\"\\n\")\n"
      ]
    },
    {
      "cell_type": "code",
      "execution_count": null,
      "id": "b94b334e",
      "metadata": {
        "id": "b94b334e",
        "outputId": "c5ca9e5c-2917-4a66-81ca-dcc7d9b2cba5"
      },
      "outputs": [
        {
          "name": "stdout",
          "output_type": "stream",
          "text": [
            "* * * * * \n",
            "\n",
            "* * * * \n",
            "\n",
            "* * * \n",
            "\n",
            "* * \n",
            "\n",
            "* \n",
            "\n"
          ]
        }
      ],
      "source": [
        "for i in range(5,0,-1):\n",
        "    for j in range(i):\n",
        "        print(\"*\", end=\" \")\n",
        "    print(\"\\n\")"
      ]
    },
    {
      "cell_type": "code",
      "execution_count": null,
      "id": "e2a32ea0",
      "metadata": {
        "id": "e2a32ea0",
        "outputId": "aaeb902f-fbb7-4428-baff-3acfbfa40d42"
      },
      "outputs": [
        {
          "name": "stdout",
          "output_type": "stream",
          "text": [
            "    *\n",
            "   **\n",
            "  ***\n",
            " ****\n",
            "*****\n"
          ]
        }
      ],
      "source": [
        "for i in range(1, 6):\n",
        "    print(\" \"*(5-i)+ \"*\"*i)"
      ]
    },
    {
      "cell_type": "code",
      "execution_count": null,
      "id": "d3902137",
      "metadata": {
        "id": "d3902137"
      },
      "outputs": [],
      "source": []
    },
    {
      "cell_type": "markdown",
      "source": [
        "operation\n"
      ],
      "metadata": {
        "id": "lC-6WuVGZzVX"
      },
      "id": "lC-6WuVGZzVX"
    },
    {
      "cell_type": "code",
      "source": [
        "a=7\n",
        "b=9\n",
        "print(a+b)"
      ],
      "metadata": {
        "colab": {
          "base_uri": "https://localhost:8080/"
        },
        "id": "ZJdsXss6Z2lr",
        "outputId": "5b676e36-20c1-4fb5-8dec-6965bc0a52a7"
      },
      "id": "ZJdsXss6Z2lr",
      "execution_count": null,
      "outputs": [
        {
          "output_type": "stream",
          "name": "stdout",
          "text": [
            "16\n"
          ]
        }
      ]
    },
    {
      "cell_type": "code",
      "source": [
        "a=7\n",
        "b=9\n",
        "print(a/b),a/b"
      ],
      "metadata": {
        "colab": {
          "base_uri": "https://localhost:8080/"
        },
        "id": "TV5zAwu8aXlk",
        "outputId": "106d0744-6ff0-4ef9-e74d-8de3eec419da"
      },
      "id": "TV5zAwu8aXlk",
      "execution_count": null,
      "outputs": [
        {
          "output_type": "stream",
          "name": "stdout",
          "text": [
            "0.7777777777777778\n"
          ]
        },
        {
          "output_type": "execute_result",
          "data": {
            "text/plain": [
              "(None, 0.7777777777777778)"
            ]
          },
          "metadata": {},
          "execution_count": 9
        }
      ]
    },
    {
      "cell_type": "markdown",
      "source": [
        "#Types de donnee"
      ],
      "metadata": {
        "id": "qRwFSlTjgZL9"
      },
      "id": "qRwFSlTjgZL9"
    },
    {
      "cell_type": "code",
      "source": [
        "#intiger (entier)\n",
        "x=10\n",
        "type(x)"
      ],
      "metadata": {
        "colab": {
          "base_uri": "https://localhost:8080/"
        },
        "id": "u7bDu8PegjDp",
        "outputId": "017d2666-1e4d-403e-fc90-6f8f089da57a"
      },
      "id": "u7bDu8PegjDp",
      "execution_count": null,
      "outputs": [
        {
          "output_type": "execute_result",
          "data": {
            "text/plain": [
              "int"
            ]
          },
          "metadata": {},
          "execution_count": 2
        }
      ]
    },
    {
      "cell_type": "code",
      "source": [
        "#float (decimal)\n",
        "x=4,6\n",
        "print(type(x))"
      ],
      "metadata": {
        "colab": {
          "base_uri": "https://localhost:8080/"
        },
        "id": "IrsCBX_ggxkP",
        "outputId": "4686e791-8f21-4a68-9543-cc1d7ab84751"
      },
      "id": "IrsCBX_ggxkP",
      "execution_count": null,
      "outputs": [
        {
          "output_type": "stream",
          "name": "stdout",
          "text": [
            "<class 'tuple'>\n"
          ]
        }
      ]
    },
    {
      "cell_type": "code",
      "source": [
        "#string(chaine)\n",
        "nom=\"maria\"\n",
        "print(type(nom))"
      ],
      "metadata": {
        "colab": {
          "base_uri": "https://localhost:8080/"
        },
        "id": "MnwsT0_1hFKs",
        "outputId": "7a871b0a-28db-403d-84ec-9cc313986eed"
      },
      "id": "MnwsT0_1hFKs",
      "execution_count": null,
      "outputs": [
        {
          "output_type": "stream",
          "name": "stdout",
          "text": [
            "<class 'str'>\n"
          ]
        }
      ]
    },
    {
      "cell_type": "code",
      "source": [
        "x=True\n",
        "print(type(x))"
      ],
      "metadata": {
        "colab": {
          "base_uri": "https://localhost:8080/"
        },
        "id": "abx-DuLRhZNI",
        "outputId": "776b2e44-39b9-4c71-9344-91751f7765d0"
      },
      "id": "abx-DuLRhZNI",
      "execution_count": null,
      "outputs": [
        {
          "output_type": "stream",
          "name": "stdout",
          "text": [
            "<class 'bool'>\n"
          ]
        }
      ]
    },
    {
      "cell_type": "code",
      "source": [
        "x=12\n",
        "y=10\n",
        "print(x<y)"
      ],
      "metadata": {
        "colab": {
          "base_uri": "https://localhost:8080/"
        },
        "id": "mMGoUNsxh3oe",
        "outputId": "abc698fc-733d-42bf-a892-071cc3b7a809"
      },
      "id": "mMGoUNsxh3oe",
      "execution_count": null,
      "outputs": [
        {
          "output_type": "stream",
          "name": "stdout",
          "text": [
            "False\n"
          ]
        }
      ]
    },
    {
      "cell_type": "code",
      "source": [
        "x=12\n",
        "y=10\n",
        "print(x>y)"
      ],
      "metadata": {
        "colab": {
          "base_uri": "https://localhost:8080/"
        },
        "id": "aqrRDXmCiAvL",
        "outputId": "59d26089-1211-4ea8-c707-78e17d9f5ffe"
      },
      "id": "aqrRDXmCiAvL",
      "execution_count": null,
      "outputs": [
        {
          "output_type": "stream",
          "name": "stdout",
          "text": [
            "True\n"
          ]
        }
      ]
    },
    {
      "cell_type": "markdown",
      "source": [
        "#Indexing et slicing en python"
      ],
      "metadata": {
        "id": "wZIAOeegliUT"
      },
      "id": "wZIAOeegliUT"
    },
    {
      "cell_type": "code",
      "source": [
        "#indexing en python\n",
        "samedi=\"bonjour classe\"\n",
        "print(\"samedi[0]=\",samedi[0])"
      ],
      "metadata": {
        "colab": {
          "base_uri": "https://localhost:8080/"
        },
        "id": "NvY-57l2lpK1",
        "outputId": "16fb6327-66a2-4d44-c0a1-9da2d0b40e62"
      },
      "id": "NvY-57l2lpK1",
      "execution_count": null,
      "outputs": [
        {
          "output_type": "stream",
          "name": "stdout",
          "text": [
            "samedi[0]= b\n"
          ]
        }
      ]
    },
    {
      "cell_type": "code",
      "source": [
        "samedi=\"bonjour classe\"\n",
        "print(\"samedi[1]=\",samedi[1])"
      ],
      "metadata": {
        "colab": {
          "base_uri": "https://localhost:8080/"
        },
        "id": "tyUyg-C6nX0y",
        "outputId": "4357f2a3-629f-4efa-da82-b71b5daa031f"
      },
      "id": "tyUyg-C6nX0y",
      "execution_count": null,
      "outputs": [
        {
          "output_type": "stream",
          "name": "stdout",
          "text": [
            "samedi[1]= o\n"
          ]
        }
      ]
    },
    {
      "cell_type": "code",
      "source": [
        "samedi=\"bonjour classe\"\n",
        "print(\"samedi[-1]=\",samedi[-1])"
      ],
      "metadata": {
        "colab": {
          "base_uri": "https://localhost:8080/"
        },
        "id": "e48Zi0ATnowF",
        "outputId": "85a138fd-f9e1-4458-9fe0-4228b3e375fa"
      },
      "id": "e48Zi0ATnowF",
      "execution_count": null,
      "outputs": [
        {
          "output_type": "stream",
          "name": "stdout",
          "text": [
            "samedi[-1]= e\n"
          ]
        }
      ]
    },
    {
      "cell_type": "code",
      "source": [
        "#slicing\n",
        "print(\"samedi[0:3]=\", samedi[0:3])\n"
      ],
      "metadata": {
        "colab": {
          "base_uri": "https://localhost:8080/"
        },
        "id": "oOUuqTwRoWBn",
        "outputId": "af30a945-39dd-41b8-af97-0e5c0714f9b6"
      },
      "id": "oOUuqTwRoWBn",
      "execution_count": null,
      "outputs": [
        {
          "output_type": "stream",
          "name": "stdout",
          "text": [
            "samedi[0:3]= bon\n"
          ]
        }
      ]
    },
    {
      "cell_type": "code",
      "source": [
        "print(\"samedi[0:4]=\", samedi[0:4])"
      ],
      "metadata": {
        "colab": {
          "base_uri": "https://localhost:8080/"
        },
        "id": "Wo3QLMSzpDL2",
        "outputId": "1c8032d4-c03c-4b95-a7ea-158da73924df"
      },
      "id": "Wo3QLMSzpDL2",
      "execution_count": null,
      "outputs": [
        {
          "output_type": "stream",
          "name": "stdout",
          "text": [
            "samedi[0:4]= bonj\n"
          ]
        }
      ]
    },
    {
      "cell_type": "code",
      "source": [
        "print(\"samedi[1:5]=\", samedi[1:5])"
      ],
      "metadata": {
        "colab": {
          "base_uri": "https://localhost:8080/"
        },
        "id": "L8OzOcEDpiXS",
        "outputId": "7aee085d-99ab-4144-d99a-4231ec979624"
      },
      "id": "L8OzOcEDpiXS",
      "execution_count": null,
      "outputs": [
        {
          "output_type": "stream",
          "name": "stdout",
          "text": [
            "samedi[1:5]= onjo\n"
          ]
        }
      ]
    },
    {
      "cell_type": "code",
      "source": [
        "#concatenation de deux ou plusieurs chaines\n",
        "ch1=\"c'est notre premier seance \"\n",
        "ch2=\"de cours a GOMYCODE\"\n",
        "\n",
        "resultat=ch1+ch2\n",
        "print(\"ch1+ch2\", resultat)"
      ],
      "metadata": {
        "colab": {
          "base_uri": "https://localhost:8080/"
        },
        "id": "ALcfIHsRqTRJ",
        "outputId": "b75e4e1c-f4d5-4593-bd20-d12c683ad940"
      },
      "id": "ALcfIHsRqTRJ",
      "execution_count": null,
      "outputs": [
        {
          "output_type": "stream",
          "name": "stdout",
          "text": [
            "ch1+ch2 c'est notre premier seance de cours a GOMYCODE\n"
          ]
        }
      ]
    },
    {
      "cell_type": "code",
      "source": [
        "#la longueur d'une chaine\n",
        "print(len(resultat))"
      ],
      "metadata": {
        "colab": {
          "base_uri": "https://localhost:8080/"
        },
        "id": "dG6cbJQhrrf-",
        "outputId": "42f9f910-b743-4ae3-d6d6-f5b259661ef0"
      },
      "id": "dG6cbJQhrrf-",
      "execution_count": null,
      "outputs": [
        {
          "output_type": "stream",
          "name": "stdout",
          "text": [
            "46\n"
          ]
        }
      ]
    },
    {
      "cell_type": "code",
      "source": [
        "resultat[a]"
      ],
      "metadata": {
        "colab": {
          "base_uri": "https://localhost:8080/",
          "height": 35
        },
        "id": "P5Drq9FMsTMP",
        "outputId": "5a41c8ef-06be-43f4-ff45-f6d7b0c4272d"
      },
      "id": "P5Drq9FMsTMP",
      "execution_count": null,
      "outputs": [
        {
          "output_type": "execute_result",
          "data": {
            "text/plain": [
              "'o'"
            ],
            "application/vnd.google.colaboratory.intrinsic+json": {
              "type": "string"
            }
          },
          "metadata": {},
          "execution_count": 24
        }
      ]
    },
    {
      "cell_type": "code",
      "source": [
        "x=10\n",
        "type(x)"
      ],
      "metadata": {
        "colab": {
          "base_uri": "https://localhost:8080/"
        },
        "id": "CW0kuvAftOYJ",
        "outputId": "d4cbece4-6837-40c7-f2d9-bbb7895babd3"
      },
      "id": "CW0kuvAftOYJ",
      "execution_count": null,
      "outputs": [
        {
          "output_type": "execute_result",
          "data": {
            "text/plain": [
              "int"
            ]
          },
          "metadata": {},
          "execution_count": 25
        }
      ]
    },
    {
      "cell_type": "code",
      "source": [
        "float(x)"
      ],
      "metadata": {
        "colab": {
          "base_uri": "https://localhost:8080/"
        },
        "id": "VFaKoLMXte2s",
        "outputId": "2eed7457-a6a2-456e-c289-a996c0f38173"
      },
      "id": "VFaKoLMXte2s",
      "execution_count": null,
      "outputs": [
        {
          "output_type": "execute_result",
          "data": {
            "text/plain": [
              "10.0"
            ]
          },
          "metadata": {},
          "execution_count": 26
        }
      ]
    },
    {
      "cell_type": "code",
      "source": [
        "str(x)"
      ],
      "metadata": {
        "colab": {
          "base_uri": "https://localhost:8080/",
          "height": 35
        },
        "id": "mD7sMsKftjZs",
        "outputId": "1fc25f07-7070-446c-dba7-94737fe7a0b3"
      },
      "id": "mD7sMsKftjZs",
      "execution_count": null,
      "outputs": [
        {
          "output_type": "execute_result",
          "data": {
            "text/plain": [
              "'10'"
            ],
            "application/vnd.google.colaboratory.intrinsic+json": {
              "type": "string"
            }
          },
          "metadata": {},
          "execution_count": 27
        }
      ]
    },
    {
      "cell_type": "markdown",
      "source": [
        "#exercice"
      ],
      "metadata": {
        "id": "i7DCaPkKVP_I"
      },
      "id": "i7DCaPkKVP_I"
    },
    {
      "cell_type": "code",
      "source": [
        "#un programme qui demande a l'utilisateur de deviner un nombre\n",
        "\n",
        "\n",
        "nombre_secret=7         #le nombre a deviner\n",
        "essai=None              #Initialisation de la variable\n",
        "\n",
        "while essai != nombre_secret: # Tant que l'utilisateur n'a devine\n",
        "   essai= int(input(\"devinez le nombre : \")) # Demande une saisie\n",
        "   if essai < nombre_secret:\n",
        "     print(\"Trop petit !\")\n",
        "   elif essai > nombre_secret:\n",
        "     print(\"Trop grand !\")\n",
        "print(\"Bravo, vous avez trouve le nombre !\")"
      ],
      "metadata": {
        "id": "nvs4-e1Wuhgs",
        "colab": {
          "base_uri": "https://localhost:8080/"
        },
        "outputId": "e5120acb-5202-411d-f61c-600d81056eb8"
      },
      "id": "nvs4-e1Wuhgs",
      "execution_count": null,
      "outputs": [
        {
          "output_type": "stream",
          "name": "stdout",
          "text": [
            "devinez le nombre : 5\n",
            "Trop petit !\n",
            "devinez le nombre : 8\n",
            "Trop grand !\n",
            "devinez le nombre : 7\n",
            "Bravo, vous avez trouve le nombre !\n"
          ]
        }
      ]
    },
    {
      "cell_type": "code",
      "source": [
        "#La fonction enumarate() permet de parcourir une sequence tout en ayant acces a l'indice de chaque element\n",
        "\n",
        "\n",
        "chaine=\"Bonjour classe\"\n",
        "\n",
        "for i,lettre in enumerate(chaine):  # on dit a l'assistant de nous donner ces deux choses(l'indice et la lettre) a chaque fois\n",
        "   print(f\"Index {i} :'{lettre}' \")"
      ],
      "metadata": {
        "colab": {
          "base_uri": "https://localhost:8080/"
        },
        "id": "EpUKnsjKYqUL",
        "outputId": "08c87a33-ee04-42ce-bd0e-7dd1f84020f3"
      },
      "id": "EpUKnsjKYqUL",
      "execution_count": null,
      "outputs": [
        {
          "output_type": "stream",
          "name": "stdout",
          "text": [
            "Index 0 :'B' \n",
            "Index 1 :'o' \n",
            "Index 2 :'n' \n",
            "Index 3 :'j' \n",
            "Index 4 :'o' \n",
            "Index 5 :'u' \n",
            "Index 6 :'r' \n",
            "Index 7 :' ' \n",
            "Index 8 :'c' \n",
            "Index 9 :'l' \n",
            "Index 10 :'a' \n",
            "Index 11 :'s' \n",
            "Index 12 :'s' \n",
            "Index 13 :'e' \n"
          ]
        }
      ]
    },
    {
      "cell_type": "markdown",
      "source": [
        "#**Data structures/ Structures de donnees**"
      ],
      "metadata": {
        "id": "knLdDT6RaA1D"
      },
      "id": "knLdDT6RaA1D"
    },
    {
      "cell_type": "markdown",
      "source": [
        "Une structure de donnees(data structure) en python est une facon d'organiser et de stocker les donnees pour pouvoir les utiliser efficacement"
      ],
      "metadata": {
        "id": "dagsk7DIbeYg"
      },
      "id": "dagsk7DIbeYg"
    },
    {
      "cell_type": "markdown",
      "source": [
        "#**Liste(list) Collection ordonnee et modifiable d'elements [ ]**"
      ],
      "metadata": {
        "id": "hOKXZGH0dJOT"
      },
      "id": "hOKXZGH0dJOT"
    },
    {
      "cell_type": "code",
      "source": [
        "liste1=[]    #liste vide"
      ],
      "metadata": {
        "id": "FRcDdTZ-dhHO"
      },
      "id": "FRcDdTZ-dhHO",
      "execution_count": null,
      "outputs": []
    },
    {
      "cell_type": "code",
      "source": [
        "liste2=[2,3,7]   #liste d'entier"
      ],
      "metadata": {
        "id": "ufqG96CQdwm7"
      },
      "id": "ufqG96CQdwm7",
      "execution_count": null,
      "outputs": []
    },
    {
      "cell_type": "code",
      "source": [
        "liste3=[\"Dakar\",\"Fouta\",\"ziguinchor\",\"Kolda\",\"Saint-Louis\"]  #liste chaine de caractere"
      ],
      "metadata": {
        "id": "mKR2yaR2d-Sa"
      },
      "id": "mKR2yaR2d-Sa",
      "execution_count": null,
      "outputs": []
    },
    {
      "cell_type": "code",
      "source": [
        "liste4=[3,\"Abib\",5.4,True]   #liste mixte"
      ],
      "metadata": {
        "id": "FniKY21Se9lt"
      },
      "id": "FniKY21Se9lt",
      "execution_count": null,
      "outputs": []
    },
    {
      "cell_type": "code",
      "source": [
        "liste5=[liste2,liste3,liste4]  #Nested list: une liste qui contient d'autres listes\n",
        "print('liste5',liste5)"
      ],
      "metadata": {
        "colab": {
          "base_uri": "https://localhost:8080/"
        },
        "id": "ouwrYrrufTj7",
        "outputId": "c1526e53-f0cd-48ed-df49-f0cd1851645d"
      },
      "id": "ouwrYrrufTj7",
      "execution_count": null,
      "outputs": [
        {
          "output_type": "stream",
          "name": "stdout",
          "text": [
            "liste5 [[2, 3, 7], ['Dakar', 'Fouta', 'ziguinchor', 'Kolda', 'Saint-Louis'], [3, 'Abib', 5.4, True]]\n"
          ]
        }
      ]
    },
    {
      "cell_type": "code",
      "source": [
        "#List comprehension:c'est mettre une boucle for dans une list\n",
        "\n",
        "liste_a=[i**2 for i in range(10)]\n",
        "print(liste_a)"
      ],
      "metadata": {
        "colab": {
          "base_uri": "https://localhost:8080/"
        },
        "id": "nSZa29ZBgSb5",
        "outputId": "6e6bc72b-f499-4464-ddfc-d5ea76f39b03"
      },
      "id": "nSZa29ZBgSb5",
      "execution_count": null,
      "outputs": [
        {
          "output_type": "stream",
          "name": "stdout",
          "text": [
            "[0, 1, 4, 9, 16, 25, 36, 49, 64, 81]\n"
          ]
        }
      ]
    },
    {
      "cell_type": "code",
      "source": [
        "for i in range(11):\n",
        "  print(i)"
      ],
      "metadata": {
        "colab": {
          "base_uri": "https://localhost:8080/"
        },
        "id": "PLl-eHj7h10A",
        "outputId": "28091d74-ccd1-4800-a9cb-513c789ff7a8"
      },
      "id": "PLl-eHj7h10A",
      "execution_count": null,
      "outputs": [
        {
          "output_type": "stream",
          "name": "stdout",
          "text": [
            "0\n",
            "1\n",
            "2\n",
            "3\n",
            "4\n",
            "5\n",
            "6\n",
            "7\n",
            "8\n",
            "9\n",
            "10\n"
          ]
        }
      ]
    },
    {
      "cell_type": "code",
      "source": [
        "#l'indexation/ INDEXING\n",
        "Samedi=[1,45,9,7,3]"
      ],
      "metadata": {
        "id": "Lbu2_gA7iSbM"
      },
      "id": "Lbu2_gA7iSbM",
      "execution_count": null,
      "outputs": []
    },
    {
      "cell_type": "code",
      "source": [
        "print(Samedi[1])  #acceder au 2eme element de notre liste: on utilise l'indexe 1"
      ],
      "metadata": {
        "colab": {
          "base_uri": "https://localhost:8080/"
        },
        "id": "M5lSVC3ci0pV",
        "outputId": "8f74b050-5802-4e60-ec08-0e7fcee581db"
      },
      "id": "M5lSVC3ci0pV",
      "execution_count": null,
      "outputs": [
        {
          "output_type": "stream",
          "name": "stdout",
          "text": [
            "45\n"
          ]
        }
      ]
    },
    {
      "cell_type": "code",
      "source": [
        "print(Samedi[-1])"
      ],
      "metadata": {
        "colab": {
          "base_uri": "https://localhost:8080/"
        },
        "id": "3AAxPOgKjsvb",
        "outputId": "86fd7667-3191-4c29-e163-7743327017f6"
      },
      "id": "3AAxPOgKjsvb",
      "execution_count": null,
      "outputs": [
        {
          "output_type": "stream",
          "name": "stdout",
          "text": [
            "3\n"
          ]
        }
      ]
    },
    {
      "cell_type": "code",
      "source": [
        "#Trancher/ SLICING\n",
        "print(Samedi[0:4])"
      ],
      "metadata": {
        "colab": {
          "base_uri": "https://localhost:8080/"
        },
        "id": "YCGWTbWEj1TT",
        "outputId": "b7e3dbe0-6254-4351-d4bc-057d4ddb49b0"
      },
      "id": "YCGWTbWEj1TT",
      "execution_count": null,
      "outputs": [
        {
          "output_type": "stream",
          "name": "stdout",
          "text": [
            "[1, 45, 9, 7]\n"
          ]
        }
      ]
    },
    {
      "cell_type": "code",
      "source": [
        "print(Samedi[2:])"
      ],
      "metadata": {
        "colab": {
          "base_uri": "https://localhost:8080/"
        },
        "id": "OEfAox2RpdPm",
        "outputId": "e62fa46f-d4d1-414c-9918-7ad8975c315b"
      },
      "id": "OEfAox2RpdPm",
      "execution_count": null,
      "outputs": [
        {
          "output_type": "stream",
          "name": "stdout",
          "text": [
            "[9, 7, 3]\n"
          ]
        }
      ]
    },
    {
      "cell_type": "code",
      "source": [
        "#TRIER une liste\n",
        "Samedi=[1,45,9,7,3]\n",
        "Samedi.sort()\n",
        "print(Samedi) #dans l'ordre croissant"
      ],
      "metadata": {
        "colab": {
          "base_uri": "https://localhost:8080/"
        },
        "id": "ta7FoJKhpqpx",
        "outputId": "808368fa-5b1a-43ef-e1c4-85e672d303ac"
      },
      "id": "ta7FoJKhpqpx",
      "execution_count": null,
      "outputs": [
        {
          "output_type": "stream",
          "name": "stdout",
          "text": [
            "[1, 3, 7, 9, 45]\n"
          ]
        }
      ]
    },
    {
      "cell_type": "code",
      "source": [
        "Samedi.sort(reverse=True)\n",
        "print(Samedi) #dans l'ordre decroissant"
      ],
      "metadata": {
        "colab": {
          "base_uri": "https://localhost:8080/"
        },
        "id": "hhu3iAt2qgET",
        "outputId": "4122d028-add5-49ef-baec-fcbf9bd249a3"
      },
      "id": "hhu3iAt2qgET",
      "execution_count": null,
      "outputs": [
        {
          "output_type": "stream",
          "name": "stdout",
          "text": [
            "[45, 9, 7, 3, 1]\n"
          ]
        }
      ]
    },
    {
      "cell_type": "code",
      "source": [
        "# Ajouter un element a notre liste\n",
        "Samedi.append(15)\n",
        "print(Samedi)"
      ],
      "metadata": {
        "colab": {
          "base_uri": "https://localhost:8080/"
        },
        "id": "5RNyeAaDq5gj",
        "outputId": "1da6088d-b13c-4619-aee3-f6e3d0e0ac8f"
      },
      "id": "5RNyeAaDq5gj",
      "execution_count": null,
      "outputs": [
        {
          "output_type": "stream",
          "name": "stdout",
          "text": [
            "[45, 9, 7, 3, 1, 15]\n"
          ]
        }
      ]
    },
    {
      "cell_type": "code",
      "source": [
        "#Pour supprimer\n",
        "Samedi.remove(45)\n",
        "print(Samedi)"
      ],
      "metadata": {
        "colab": {
          "base_uri": "https://localhost:8080/"
        },
        "id": "06oJIAiUrznH",
        "outputId": "b53ea3ff-ce3e-4ccf-a249-98bea9dc8fc7"
      },
      "id": "06oJIAiUrznH",
      "execution_count": null,
      "outputs": [
        {
          "output_type": "stream",
          "name": "stdout",
          "text": [
            "[9, 7, 3, 1, 15]\n"
          ]
        }
      ]
    },
    {
      "cell_type": "code",
      "source": [
        "#ajouter un element en indiquant l'index\n",
        "Samedi.insert(2,11)\n",
        "Samedi"
      ],
      "metadata": {
        "colab": {
          "base_uri": "https://localhost:8080/"
        },
        "id": "j5PmC7_Wso0u",
        "outputId": "9b455b0b-271e-4760-ce84-566c3e2aa071"
      },
      "id": "j5PmC7_Wso0u",
      "execution_count": null,
      "outputs": [
        {
          "output_type": "execute_result",
          "data": {
            "text/plain": [
              "[9, 7, 11, 3, 1, 15]"
            ]
          },
          "metadata": {},
          "execution_count": 51
        }
      ]
    },
    {
      "cell_type": "code",
      "source": [
        "#modifier la valeur de l'index\n",
        "Samedi[0]=2\n",
        "print(Samedi)"
      ],
      "metadata": {
        "colab": {
          "base_uri": "https://localhost:8080/"
        },
        "id": "U4DsYW3huO2u",
        "outputId": "4a92402e-cdd3-4d37-f87e-ce43e24a39eb"
      },
      "id": "U4DsYW3huO2u",
      "execution_count": null,
      "outputs": [
        {
          "output_type": "stream",
          "name": "stdout",
          "text": [
            "[2, 7, 11, 3, 1, 15]\n"
          ]
        }
      ]
    },
    {
      "cell_type": "code",
      "source": [
        "#Supprimer un index specifique\n",
        "del Samedi[4]\n",
        "print(Samedi)"
      ],
      "metadata": {
        "colab": {
          "base_uri": "https://localhost:8080/"
        },
        "id": "N8bbW6b2vPeF",
        "outputId": "06e6ef8d-6612-4ce3-ed1e-ec92373c2660"
      },
      "id": "N8bbW6b2vPeF",
      "execution_count": null,
      "outputs": [
        {
          "output_type": "stream",
          "name": "stdout",
          "text": [
            "[2, 7, 11, 3, 15]\n"
          ]
        }
      ]
    },
    {
      "cell_type": "code",
      "source": [
        "#longueur\n",
        "len(Samedi)"
      ],
      "metadata": {
        "colab": {
          "base_uri": "https://localhost:8080/"
        },
        "id": "_-R-6uQy1jhQ",
        "outputId": "42230734-fe7b-49cb-959c-91a464402adf"
      },
      "id": "_-R-6uQy1jhQ",
      "execution_count": null,
      "outputs": [
        {
          "output_type": "execute_result",
          "data": {
            "text/plain": [
              "5"
            ]
          },
          "metadata": {},
          "execution_count": 68
        }
      ]
    },
    {
      "cell_type": "markdown",
      "source": [
        "#**Dictionnaire(dict) Collection non ordonnee de paires cle-valeur{ }**"
      ],
      "metadata": {
        "id": "AKAcV8ZvvkLH"
      },
      "id": "AKAcV8ZvvkLH"
    },
    {
      "cell_type": "code",
      "source": [
        "#comment creer un dictionnaire\n",
        "etudiant={\"Nom\":\"Mouhamed\",\"Age\":18,\"Note\":15}\n",
        "print('etudiant:',etudiant)"
      ],
      "metadata": {
        "colab": {
          "base_uri": "https://localhost:8080/"
        },
        "id": "BBXmaJGlv_oi",
        "outputId": "d747ce46-01da-469b-c62c-75bf76d982d8"
      },
      "id": "BBXmaJGlv_oi",
      "execution_count": null,
      "outputs": [
        {
          "output_type": "stream",
          "name": "stdout",
          "text": [
            "etudiant: {'Nom': 'Mouhamed', 'Age': 18, 'Note': 15}\n"
          ]
        }
      ]
    },
    {
      "cell_type": "markdown",
      "source": [
        "etudiant={'Nom':[\"Mouhamed\",\"Awa\",\"Moussa\"],\n",
        "          'Age':[23,43,24],\n",
        "          'Note':[15,16,19]}\n",
        "etudiant"
      ],
      "metadata": {
        "id": "ikAXDSEWxfly"
      },
      "id": "ikAXDSEWxfly"
    },
    {
      "cell_type": "code",
      "source": [
        "#parcourir aux elements de notre dictionnaire\n",
        "\n",
        "#keys\n",
        "for key in etudiant.keys():\n",
        "  print(key)"
      ],
      "metadata": {
        "colab": {
          "base_uri": "https://localhost:8080/"
        },
        "id": "NiA1zzqvyihN",
        "outputId": "c62c8e7c-a19f-41a1-88f8-e51765b573aa"
      },
      "id": "NiA1zzqvyihN",
      "execution_count": null,
      "outputs": [
        {
          "output_type": "stream",
          "name": "stdout",
          "text": [
            "Nom\n",
            "Age\n",
            "Note\n"
          ]
        }
      ]
    },
    {
      "cell_type": "code",
      "source": [
        "#values\n",
        "for value in etudiant.values():\n",
        "  print(value)"
      ],
      "metadata": {
        "colab": {
          "base_uri": "https://localhost:8080/"
        },
        "id": "_2CxK4d-zgRz",
        "outputId": "e7eb3ef6-582c-4905-f1ac-bb8f984d380f"
      },
      "id": "_2CxK4d-zgRz",
      "execution_count": null,
      "outputs": [
        {
          "output_type": "stream",
          "name": "stdout",
          "text": [
            "['Mouhamed', 'Awa', 'Moussa']\n",
            "[23, 43, 24]\n",
            "[15, 16, 19]\n"
          ]
        }
      ]
    },
    {
      "cell_type": "code",
      "source": [
        "for item in etudiant.items():\n",
        "  print(item)"
      ],
      "metadata": {
        "colab": {
          "base_uri": "https://localhost:8080/"
        },
        "id": "2asVCbNcz5NG",
        "outputId": "39c5a516-3ed9-476c-80ba-1056cf04ee9e"
      },
      "id": "2asVCbNcz5NG",
      "execution_count": null,
      "outputs": [
        {
          "output_type": "stream",
          "name": "stdout",
          "text": [
            "('Nom', ['Mouhamed', 'Awa', 'Moussa'])\n",
            "('Age', [23, 43, 24])\n",
            "('Note', [15, 16, 19])\n"
          ]
        }
      ]
    },
    {
      "cell_type": "code",
      "source": [
        "#Longueur\n",
        "print(len(etudiant))"
      ],
      "metadata": {
        "colab": {
          "base_uri": "https://localhost:8080/"
        },
        "id": "uUKwAYXu0L32",
        "outputId": "a72505d6-353a-42d6-99c9-10daacdd4c02"
      },
      "id": "uUKwAYXu0L32",
      "execution_count": null,
      "outputs": [
        {
          "output_type": "stream",
          "name": "stdout",
          "text": [
            "3\n"
          ]
        }
      ]
    },
    {
      "cell_type": "code",
      "source": [
        "#ajouter un element\n",
        "etudiant[\"taille\"]=1.75\n",
        "etudiant"
      ],
      "metadata": {
        "colab": {
          "base_uri": "https://localhost:8080/"
        },
        "id": "GmghK_V60XEB",
        "outputId": "d50d7e21-1f21-4dc4-e477-1461a8b2a218"
      },
      "id": "GmghK_V60XEB",
      "execution_count": null,
      "outputs": [
        {
          "output_type": "execute_result",
          "data": {
            "text/plain": [
              "{'Nom': ['Mouhamed', 'Awa', 'Moussa'],\n",
              " 'Age': [23, 43, 24],\n",
              " 'Note': [15, 16, 19],\n",
              " 'taille': 1.75}"
            ]
          },
          "metadata": {},
          "execution_count": 65
        }
      ]
    },
    {
      "cell_type": "code",
      "source": [
        "#supprimer un element\n",
        "etudiant.pop(\"Note\")\n",
        "etudiant"
      ],
      "metadata": {
        "colab": {
          "base_uri": "https://localhost:8080/"
        },
        "id": "uCzC7bgt0qgY",
        "outputId": "91aa060c-4811-49ea-9fd9-65f4e1d02521"
      },
      "id": "uCzC7bgt0qgY",
      "execution_count": null,
      "outputs": [
        {
          "output_type": "execute_result",
          "data": {
            "text/plain": [
              "{'Nom': ['Mouhamed', 'Awa', 'Moussa'], 'Age': [23, 43, 24], 'taille': 1.75}"
            ]
          },
          "metadata": {},
          "execution_count": 67
        }
      ]
    },
    {
      "cell_type": "code",
      "source": [],
      "metadata": {
        "id": "xvN-Vnr01A6f"
      },
      "id": "xvN-Vnr01A6f",
      "execution_count": null,
      "outputs": []
    },
    {
      "cell_type": "markdown",
      "source": [
        "#**FONCTION**\n",
        "\n",
        "Qu'est-ce qu'une fonction ?\n",
        "\n",
        "En Python, une fonction est un bloc de code reutilisable qui effectue une tache specifique. C'est comme une mini-recette que vous pouvez utiliser encore et encore, sans avoir a reecrire toutes les instructions"
      ],
      "metadata": {
        "id": "Vz0cWjpJfiqX"
      },
      "id": "Vz0cWjpJfiqX"
    },
    {
      "cell_type": "code",
      "source": [
        "A=[2,4,6,7,8]\n",
        "#Longueur de la liste\n",
        "len(A)"
      ],
      "metadata": {
        "colab": {
          "base_uri": "https://localhost:8080/"
        },
        "id": "Z8C7--IdgXkh",
        "outputId": "7e744a81-a304-4a1a-a976-207efca374eb"
      },
      "id": "Z8C7--IdgXkh",
      "execution_count": null,
      "outputs": [
        {
          "output_type": "execute_result",
          "data": {
            "text/plain": [
              "5"
            ]
          },
          "metadata": {},
          "execution_count": 1
        }
      ]
    },
    {
      "cell_type": "markdown",
      "source": [
        "**#FONCTION SANS PARAMETRE**"
      ],
      "metadata": {
        "id": "6Fj9V0rxit1J"
      },
      "id": "6Fj9V0rxit1J"
    },
    {
      "cell_type": "code",
      "source": [
        "def saluer():\n",
        "    print(\"Bonjour la classe\")"
      ],
      "metadata": {
        "id": "2ILSmcoYi_oL"
      },
      "id": "2ILSmcoYi_oL",
      "execution_count": null,
      "outputs": []
    },
    {
      "cell_type": "code",
      "source": [
        "saluer() #appeler la foction"
      ],
      "metadata": {
        "colab": {
          "base_uri": "https://localhost:8080/"
        },
        "id": "cuG8TzFKjNsz",
        "outputId": "94e55759-dd42-4d60-e130-2f73a8c1e05d"
      },
      "id": "cuG8TzFKjNsz",
      "execution_count": null,
      "outputs": [
        {
          "output_type": "stream",
          "name": "stdout",
          "text": [
            "Bonjour la classe\n"
          ]
        }
      ]
    },
    {
      "cell_type": "markdown",
      "source": [
        "**#Fonction avec un seul parametre**"
      ],
      "metadata": {
        "id": "68MWbYgbjruB"
      },
      "id": "68MWbYgbjruB"
    },
    {
      "cell_type": "code",
      "source": [
        "#Creer ene fonction signe qui permettra de connaitre le signe d'un nombre\n",
        "\n",
        "def signe(x):\n",
        "  #instructions\n",
        "  if x > 0:\n",
        "    print(\"le nombre est positif\")\n",
        "\n",
        "  elif x == 0:\n",
        "    print(\"le nombre est nul\")\n",
        "\n",
        "  else:\n",
        "    print(\"le nombre est negatif\")"
      ],
      "metadata": {
        "id": "ZeJk1u5Pj20U"
      },
      "id": "ZeJk1u5Pj20U",
      "execution_count": null,
      "outputs": []
    },
    {
      "cell_type": "code",
      "source": [
        "signe(-5)"
      ],
      "metadata": {
        "colab": {
          "base_uri": "https://localhost:8080/"
        },
        "id": "8Z9PycbIk2Ce",
        "outputId": "818eb135-3732-4331-e40a-81078422e68c"
      },
      "id": "8Z9PycbIk2Ce",
      "execution_count": null,
      "outputs": [
        {
          "output_type": "stream",
          "name": "stdout",
          "text": [
            "le nombre est negatif\n"
          ]
        }
      ]
    },
    {
      "cell_type": "code",
      "source": [
        "signe(4)"
      ],
      "metadata": {
        "colab": {
          "base_uri": "https://localhost:8080/"
        },
        "id": "-GJq10PSlEVe",
        "outputId": "da88cc0c-8919-449b-edcf-b628d19ef343"
      },
      "id": "-GJq10PSlEVe",
      "execution_count": null,
      "outputs": [
        {
          "output_type": "stream",
          "name": "stdout",
          "text": [
            "le nombre est positif\n"
          ]
        }
      ]
    },
    {
      "cell_type": "code",
      "source": [
        "signe(0)"
      ],
      "metadata": {
        "colab": {
          "base_uri": "https://localhost:8080/"
        },
        "id": "yH2vl4uglHFL",
        "outputId": "bc62bb39-fdc3-481d-82ca-dfbde00aa7c2"
      },
      "id": "yH2vl4uglHFL",
      "execution_count": null,
      "outputs": [
        {
          "output_type": "stream",
          "name": "stdout",
          "text": [
            "le nombre est nul\n"
          ]
        }
      ]
    },
    {
      "cell_type": "markdown",
      "source": [
        "**#Fonction a parametre multiples**"
      ],
      "metadata": {
        "id": "LphUQztClouj"
      },
      "id": "LphUQztClouj"
    },
    {
      "cell_type": "code",
      "source": [
        "#Argument: valeur envoyee a la fonction lors de son appel\n",
        "#parametre: la variable repertoriee entre parentheses dans la definition de la fonction\n",
        "\n",
        "def addition(a,b):\n",
        "    somme=a+b\n",
        "    print('somme:',somme)"
      ],
      "metadata": {
        "id": "BeDmROktlwhG"
      },
      "id": "BeDmROktlwhG",
      "execution_count": null,
      "outputs": []
    },
    {
      "cell_type": "code",
      "source": [
        "addition(4,6)  #4 et 6 sont des arguments"
      ],
      "metadata": {
        "colab": {
          "base_uri": "https://localhost:8080/"
        },
        "id": "Tp-jdiJcnEyl",
        "outputId": "b2e2ee2a-4f49-4e6b-aa09-a46fb0b3a8ad"
      },
      "id": "Tp-jdiJcnEyl",
      "execution_count": null,
      "outputs": [
        {
          "output_type": "stream",
          "name": "stdout",
          "text": [
            "somme: 10\n"
          ]
        }
      ]
    },
    {
      "cell_type": "code",
      "source": [
        "def multiplication(a,b,c):\n",
        "    produit=(a+b)*(c)\n",
        "    print('produit:',produit)"
      ],
      "metadata": {
        "id": "zwhUNt_QnYns"
      },
      "id": "zwhUNt_QnYns",
      "execution_count": null,
      "outputs": []
    },
    {
      "cell_type": "code",
      "source": [
        "multiplication(10,7,3)"
      ],
      "metadata": {
        "colab": {
          "base_uri": "https://localhost:8080/"
        },
        "id": "mq8GnBUUn9rD",
        "outputId": "d7ddf54c-b5de-491c-dcad-6200277ca64b"
      },
      "id": "mq8GnBUUn9rD",
      "execution_count": null,
      "outputs": [
        {
          "output_type": "stream",
          "name": "stdout",
          "text": [
            "produit: 31\n"
          ]
        }
      ]
    },
    {
      "cell_type": "code",
      "source": [
        "def prod(a,b,c):\n",
        "    prod=a*b*c\n",
        "    print('prod:',prod)"
      ],
      "metadata": {
        "id": "ui90jSwypW37"
      },
      "id": "ui90jSwypW37",
      "execution_count": null,
      "outputs": []
    },
    {
      "cell_type": "code",
      "source": [
        "prod(4,7,9)"
      ],
      "metadata": {
        "colab": {
          "base_uri": "https://localhost:8080/"
        },
        "id": "oFydLUP6pmfU",
        "outputId": "5b68fbe0-282d-4893-a070-b91338d4d4f9"
      },
      "id": "oFydLUP6pmfU",
      "execution_count": null,
      "outputs": [
        {
          "output_type": "stream",
          "name": "stdout",
          "text": [
            "prod: 252\n"
          ]
        }
      ]
    },
    {
      "cell_type": "markdown",
      "source": [
        "**#La declaration de retour**\n",
        "\n",
        "Dans une fonction, return est utilise pour envoyer une valeure apres l'execution du code. cela permet d'utiliser le resultat de la fonction ailleurs dans le programme"
      ],
      "metadata": {
        "id": "-ZAeYpGtqCwN"
      },
      "id": "-ZAeYpGtqCwN"
    },
    {
      "cell_type": "code",
      "source": [
        "def double(nombre):\n",
        "  return nombre*2  #La fonction renvoie le double du nombre"
      ],
      "metadata": {
        "id": "OlncaUd7qbTT"
      },
      "id": "OlncaUd7qbTT",
      "execution_count": null,
      "outputs": []
    },
    {
      "cell_type": "code",
      "source": [
        "resultat=double(5)\n",
        "print(resultat)"
      ],
      "metadata": {
        "colab": {
          "base_uri": "https://localhost:8080/"
        },
        "id": "WSmVbcFstKAT",
        "outputId": "43fa35c5-118c-4606-c412-6d7ee142e4dc"
      },
      "id": "WSmVbcFstKAT",
      "execution_count": null,
      "outputs": [
        {
          "output_type": "stream",
          "name": "stdout",
          "text": [
            "10\n"
          ]
        }
      ]
    },
    {
      "cell_type": "code",
      "source": [
        "def addition(a,b):\n",
        "    return a+b  #Retourne la somme des deux nombres"
      ],
      "metadata": {
        "id": "MD37xrDhtapG"
      },
      "id": "MD37xrDhtapG",
      "execution_count": null,
      "outputs": []
    },
    {
      "cell_type": "code",
      "source": [
        "# exemple d'utilisation\n",
        "resultat=addition(5,9)\n",
        "print(resultat)"
      ],
      "metadata": {
        "colab": {
          "base_uri": "https://localhost:8080/"
        },
        "id": "0A7Mo6znuRze",
        "outputId": "c5cc32d9-5d5f-434f-f328-aa32574c93a1"
      },
      "id": "0A7Mo6znuRze",
      "execution_count": null,
      "outputs": [
        {
          "output_type": "stream",
          "name": "stdout",
          "text": [
            "14\n"
          ]
        }
      ]
    },
    {
      "cell_type": "code",
      "source": [
        "#Argument par defaut\n",
        "def calculer_aire(longueur, largeur=1):\n",
        "  return longueur*largeur"
      ],
      "metadata": {
        "id": "2unpAmOIvXjm"
      },
      "id": "2unpAmOIvXjm",
      "execution_count": null,
      "outputs": []
    },
    {
      "cell_type": "code",
      "source": [
        "aire=calculer_aire(5)\n",
        "print(aire)"
      ],
      "metadata": {
        "colab": {
          "base_uri": "https://localhost:8080/"
        },
        "id": "6qNhZQwMv3n1",
        "outputId": "49e27093-0292-47f3-c316-2430e9a8cca4"
      },
      "id": "6qNhZQwMv3n1",
      "execution_count": null,
      "outputs": [
        {
          "output_type": "stream",
          "name": "stdout",
          "text": [
            "5\n"
          ]
        }
      ]
    },
    {
      "cell_type": "markdown",
      "source": [
        "**#Fonction lambda**\n",
        "\n",
        "une fonction lambda est une fonction anonyme definie en une seule ligne. Elle est souvent utilisee pour les calculs simples et rapides"
      ],
      "metadata": {
        "id": "_25wgvEYwhCE"
      },
      "id": "_25wgvEYwhCE"
    },
    {
      "cell_type": "code",
      "source": [
        "f= lambda x:x**2+2*x+4"
      ],
      "metadata": {
        "id": "A1N2D7J0xQ36"
      },
      "id": "A1N2D7J0xQ36",
      "execution_count": null,
      "outputs": []
    },
    {
      "cell_type": "markdown",
      "source": [
        "f(2)"
      ],
      "metadata": {
        "id": "C_YseyitxmlG"
      },
      "id": "C_YseyitxmlG"
    },
    {
      "cell_type": "code",
      "source": [
        "f= lambda x,y:4*x+5*y"
      ],
      "metadata": {
        "id": "L-JI9CFhx6UG"
      },
      "id": "L-JI9CFhx6UG",
      "execution_count": null,
      "outputs": []
    },
    {
      "cell_type": "code",
      "source": [
        "f(2,5)"
      ],
      "metadata": {
        "colab": {
          "base_uri": "https://localhost:8080/"
        },
        "id": "hmcApN4kyIjl",
        "outputId": "cae63e74-0970-4093-9db0-99568fd3de60"
      },
      "id": "hmcApN4kyIjl",
      "execution_count": null,
      "outputs": [
        {
          "output_type": "execute_result",
          "data": {
            "text/plain": [
              "33"
            ]
          },
          "metadata": {},
          "execution_count": 51
        }
      ]
    },
    {
      "cell_type": "markdown",
      "source": [
        "**#Fontion map()**\n",
        "\n",
        "La fonction map() est une fonction integree en python qui applique une fonction a chaque element d'une interable(comme une liste ou un tuple) et retourne un nouvel iterable avec les resultats."
      ],
      "metadata": {
        "id": "tLRTEb01ymMS"
      },
      "id": "tLRTEb01ymMS"
    },
    {
      "cell_type": "code",
      "source": [
        "#la syntaxe\n",
        "##map(fonction,interable)\n",
        "#1. fonction:la fonction a apppliquer a chaque element\n",
        "#2. iterable:la liste, le tuple ou un autre sur lequel la fonction sera appliquee"
      ],
      "metadata": {
        "id": "MoUck_u-zQK7"
      },
      "id": "MoUck_u-zQK7",
      "execution_count": null,
      "outputs": []
    },
    {
      "cell_type": "code",
      "source": [
        "#Liste de nombres\n",
        "nombres=[1,2,3,4,5]\n",
        "\n",
        "#Fonction lambda pour doubler un nombre\n",
        "double=map(lambda x:2*x,nombres)\n",
        "\n",
        "#COnvertir le resultat en liste\n",
        "\n",
        "print(list(double))\n"
      ],
      "metadata": {
        "colab": {
          "base_uri": "https://localhost:8080/"
        },
        "id": "hTm0fDguz81H",
        "outputId": "7891af05-91f9-4ed9-c152-37172b976dd2"
      },
      "id": "hTm0fDguz81H",
      "execution_count": null,
      "outputs": [
        {
          "output_type": "stream",
          "name": "stdout",
          "text": [
            "[2, 4, 6, 8, 10]\n"
          ]
        }
      ]
    },
    {
      "cell_type": "markdown",
      "source": [
        "#**Polymorphisme**\n",
        "\n",
        "\n",
        "Le polymorphisme est un concepte de la POO qui permet d'utiliser une meme methode sur des objets de classe differentes; tout en ayant un comportement adapte a chaque classe. En d'autres termes, une methode peut avoir differentes implementations selon l'objet sur lequel elle est appelee."
      ],
      "metadata": {
        "id": "WOYqGiW7dOhU"
      },
      "id": "WOYqGiW7dOhU"
    },
    {
      "cell_type": "markdown",
      "source": [
        "#**Exemple**\n",
        "\n",
        "on va creer une classe animal avec une methode faire_son(). Ensuite, on va creer des classes chien et chat, qui heriterons d'Animal, mais avec leur propre version de faire_son()"
      ],
      "metadata": {
        "id": "waBsRw6CfBW1"
      },
      "id": "waBsRw6CfBW1"
    },
    {
      "cell_type": "code",
      "source": [
        "#classe parent\n",
        "class Animal:\n",
        "  def faire_son(self):\n",
        "    pass        #Methode generique a redefinir\n",
        "#classe enfant 1\n",
        "class chien(Animal):\n",
        "  def faire_son(self):\n",
        "    return \"wouf wouf\"  #le chien aboie\n",
        "\n",
        "#classe enfant 2\n",
        "class chat(Animal):\n",
        "  def faire_son(self):\n",
        "    return \"Miaou Miaou\"\n",
        "\n",
        "#utilisation du polymorphisme\n",
        "animaux=[chien(), chat()]   #Liste contenant des objets de differentes classes\n",
        "\n",
        "for animal in animaux:\n",
        "  print(animal.faire_son())"
      ],
      "metadata": {
        "colab": {
          "base_uri": "https://localhost:8080/"
        },
        "id": "go-w2_Azfmri",
        "outputId": "79aa2002-5b32-4f5e-98ad-0b2dd5a14607"
      },
      "id": "go-w2_Azfmri",
      "execution_count": 3,
      "outputs": [
        {
          "output_type": "stream",
          "name": "stdout",
          "text": [
            "wouf wouf\n",
            "Miaou Miaou\n"
          ]
        }
      ]
    },
    {
      "cell_type": "markdown",
      "source": [
        "#**Numpy**\n",
        "\n",
        "Numpy(***Numerical Python***) est un bibliotheque specialise dans le calcul numerique et la manupilation de tableau de donnees(appeles Arrays).\n",
        "\n",
        "Elle permet de faire des calculs mathematiques rapides et efficaces sur des grands ensembles de donnees, bien plus rapidement qu'avec les listes Python classiques."
      ],
      "metadata": {
        "id": "eQ28yBZ0ke_i"
      },
      "id": "eQ28yBZ0ke_i"
    },
    {
      "cell_type": "code",
      "source": [
        "import numpy as np\n"
      ],
      "metadata": {
        "id": "u_nr_saClmvV"
      },
      "id": "u_nr_saClmvV",
      "execution_count": null,
      "outputs": []
    },
    {
      "cell_type": "markdown",
      "source": [
        "#**1 Creation de tableau**"
      ],
      "metadata": {
        "id": "nmmpsNd7lwOZ"
      },
      "id": "nmmpsNd7lwOZ"
    },
    {
      "cell_type": "code",
      "source": [
        "#comment creer un tableau 1D\n",
        "import numpy as np\n",
        "A=np.array([1,7,8])\n",
        "A"
      ],
      "metadata": {
        "colab": {
          "base_uri": "https://localhost:8080/"
        },
        "id": "rXkUv4fnl66Y",
        "outputId": "e941acbd-525f-4384-b430-05638a98d0bc"
      },
      "id": "rXkUv4fnl66Y",
      "execution_count": 5,
      "outputs": [
        {
          "output_type": "execute_result",
          "data": {
            "text/plain": [
              "array([1, 7, 8])"
            ]
          },
          "metadata": {},
          "execution_count": 5
        }
      ]
    },
    {
      "cell_type": "code",
      "source": [
        "#comment creer un tableau 2D\n",
        "B=np.array([[1,2,3],[4,5,6]])\n",
        "print(B)"
      ],
      "metadata": {
        "colab": {
          "base_uri": "https://localhost:8080/"
        },
        "id": "oQ4P9Li-mi3I",
        "outputId": "cd209c56-c179-497b-8174-0376802874b2"
      },
      "id": "oQ4P9Li-mi3I",
      "execution_count": 7,
      "outputs": [
        {
          "output_type": "stream",
          "name": "stdout",
          "text": [
            "[[1 2 3]\n",
            " [4 5 6]]\n"
          ]
        }
      ]
    },
    {
      "cell_type": "code",
      "source": [
        "C=np.array([[2,4,5],[1,3,8],[5,8,9]])\n",
        "print(C)"
      ],
      "metadata": {
        "colab": {
          "base_uri": "https://localhost:8080/"
        },
        "id": "XhFeWPten7Sv",
        "outputId": "e364d030-a439-4ff9-d632-f95bfb28ea19"
      },
      "id": "XhFeWPten7Sv",
      "execution_count": 8,
      "outputs": [
        {
          "output_type": "stream",
          "name": "stdout",
          "text": [
            "[[2 4 5]\n",
            " [1 3 8]\n",
            " [5 8 9]]\n"
          ]
        }
      ]
    },
    {
      "cell_type": "code",
      "source": [
        "#nombre de dimension\n",
        "C.ndim"
      ],
      "metadata": {
        "colab": {
          "base_uri": "https://localhost:8080/"
        },
        "id": "GtSiw_bGoVG7",
        "outputId": "b2ecac9b-79eb-4a4e-cd63-96fda82753f3"
      },
      "id": "GtSiw_bGoVG7",
      "execution_count": 9,
      "outputs": [
        {
          "output_type": "execute_result",
          "data": {
            "text/plain": [
              "2"
            ]
          },
          "metadata": {},
          "execution_count": 9
        }
      ]
    },
    {
      "cell_type": "code",
      "source": [
        "#la forme de notre tableau\n",
        "C.shape"
      ],
      "metadata": {
        "colab": {
          "base_uri": "https://localhost:8080/"
        },
        "id": "tCIKRDMfoian",
        "outputId": "045ca766-73a0-404e-cbeb-917dff13a413"
      },
      "id": "tCIKRDMfoian",
      "execution_count": 10,
      "outputs": [
        {
          "output_type": "execute_result",
          "data": {
            "text/plain": [
              "(3, 3)"
            ]
          },
          "metadata": {},
          "execution_count": 10
        }
      ]
    },
    {
      "cell_type": "code",
      "source": [
        "#tableau qui contient que des 0\n",
        "M=np.zeros((3,2))\n",
        "print(M)"
      ],
      "metadata": {
        "colab": {
          "base_uri": "https://localhost:8080/"
        },
        "id": "aAdOGfKqosT1",
        "outputId": "5ee4eeea-efc9-4b1e-b10b-b5f2937840dc"
      },
      "id": "aAdOGfKqosT1",
      "execution_count": 11,
      "outputs": [
        {
          "output_type": "stream",
          "name": "stdout",
          "text": [
            "[[0. 0.]\n",
            " [0. 0.]\n",
            " [0. 0.]]\n"
          ]
        }
      ]
    },
    {
      "cell_type": "code",
      "source": [
        "#tableau qui contient que des 1\n",
        "N=np.ones((3,4))\n",
        "print(N)"
      ],
      "metadata": {
        "colab": {
          "base_uri": "https://localhost:8080/"
        },
        "id": "ja5jAmF7pKPC",
        "outputId": "a66b589c-fd5f-4b57-bf57-4b73273ebbb0"
      },
      "id": "ja5jAmF7pKPC",
      "execution_count": 12,
      "outputs": [
        {
          "output_type": "stream",
          "name": "stdout",
          "text": [
            "[[1. 1. 1. 1.]\n",
            " [1. 1. 1. 1.]\n",
            " [1. 1. 1. 1.]]\n"
          ]
        }
      ]
    },
    {
      "cell_type": "code",
      "source": [
        "# remplir un tableau avec le mm nombre\n",
        "E=np.full((3,4),9)\n",
        "E"
      ],
      "metadata": {
        "colab": {
          "base_uri": "https://localhost:8080/"
        },
        "id": "0deIBkvvpdKe",
        "outputId": "11920c20-cf19-4464-8db1-254d2c7e0965"
      },
      "id": "0deIBkvvpdKe",
      "execution_count": 13,
      "outputs": [
        {
          "output_type": "execute_result",
          "data": {
            "text/plain": [
              "array([[9, 9, 9, 9],\n",
              "       [9, 9, 9, 9],\n",
              "       [9, 9, 9, 9]])"
            ]
          },
          "metadata": {},
          "execution_count": 13
        }
      ]
    },
    {
      "cell_type": "code",
      "source": [
        "# Tableau avec des nombres aleatoire\n",
        "A=np.random.randn(3,4)   #nombres aleatoires qui suivent la distribution normale centres en 0\n",
        "print(A)"
      ],
      "metadata": {
        "colab": {
          "base_uri": "https://localhost:8080/"
        },
        "id": "J10pfaVTp_Hr",
        "outputId": "acecbef1-7d2a-4e41-bc86-a27712e8cd18"
      },
      "id": "J10pfaVTp_Hr",
      "execution_count": 21,
      "outputs": [
        {
          "output_type": "stream",
          "name": "stdout",
          "text": [
            "[[ 2.26975462 -1.45436567  0.04575852 -0.18718385]\n",
            " [ 1.53277921  1.46935877  0.15494743  0.37816252]\n",
            " [-0.88778575 -1.98079647 -0.34791215  0.15634897]]\n"
          ]
        }
      ]
    },
    {
      "cell_type": "code",
      "source": [
        "A=np.random.seed(0) # c'est pour fixer le nombre\n",
        "A=np.random.randn(3,4)\n",
        "print(A)"
      ],
      "metadata": {
        "colab": {
          "base_uri": "https://localhost:8080/"
        },
        "id": "nL2Q-5Jlqypz",
        "outputId": "1bb424f2-9eca-4cbc-f7b4-62f9d2daad53"
      },
      "id": "nL2Q-5Jlqypz",
      "execution_count": 19,
      "outputs": [
        {
          "output_type": "stream",
          "name": "stdout",
          "text": [
            "[[ 1.76405235  0.40015721  0.97873798  2.2408932 ]\n",
            " [ 1.86755799 -0.97727788  0.95008842 -0.15135721]\n",
            " [-0.10321885  0.4105985   0.14404357  1.45427351]]\n"
          ]
        }
      ]
    },
    {
      "cell_type": "code",
      "source": [
        "#tableau qui contient un debut, un fin et une quantite\n",
        "G=np.linspace(0,10,20)\n",
        "print(G)"
      ],
      "metadata": {
        "colab": {
          "base_uri": "https://localhost:8080/"
        },
        "id": "3jX71pmyrWks",
        "outputId": "356a52e2-5acf-4472-e48e-660f2b4b5609"
      },
      "id": "3jX71pmyrWks",
      "execution_count": 26,
      "outputs": [
        {
          "output_type": "stream",
          "name": "stdout",
          "text": [
            "[ 0.          0.52631579  1.05263158  1.57894737  2.10526316  2.63157895\n",
            "  3.15789474  3.68421053  4.21052632  4.73684211  5.26315789  5.78947368\n",
            "  6.31578947  6.84210526  7.36842105  7.89473684  8.42105263  8.94736842\n",
            "  9.47368421 10.        ]\n"
          ]
        }
      ]
    },
    {
      "cell_type": "code",
      "source": [
        "# tableau qui a un debut, un fin et un pas\n",
        "I=np.arange(0,10,0.5)\n",
        "print(I)"
      ],
      "metadata": {
        "colab": {
          "base_uri": "https://localhost:8080/"
        },
        "id": "LFFQtt6bsI_l",
        "outputId": "7393bc04-cc73-4fac-a394-de2237265633"
      },
      "id": "LFFQtt6bsI_l",
      "execution_count": 27,
      "outputs": [
        {
          "output_type": "stream",
          "name": "stdout",
          "text": [
            "[0.  0.5 1.  1.5 2.  2.5 3.  3.5 4.  4.5 5.  5.5 6.  6.5 7.  7.5 8.  8.5\n",
            " 9.  9.5]\n"
          ]
        }
      ]
    },
    {
      "cell_type": "markdown",
      "source": [
        "# Manupilation de tableau"
      ],
      "metadata": {
        "id": "1GIAlJHRsrd7"
      },
      "id": "1GIAlJHRsrd7"
    },
    {
      "cell_type": "code",
      "source": [
        "B=np.ones((3,2))\n",
        "print(B)"
      ],
      "metadata": {
        "colab": {
          "base_uri": "https://localhost:8080/"
        },
        "id": "KTpaGQNrs55X",
        "outputId": "e9f1f609-1759-470a-bac6-6252a61ef96c"
      },
      "id": "KTpaGQNrs55X",
      "execution_count": 32,
      "outputs": [
        {
          "output_type": "stream",
          "name": "stdout",
          "text": [
            "[[1. 1.]\n",
            " [1. 1.]\n",
            " [1. 1.]]\n"
          ]
        }
      ]
    },
    {
      "cell_type": "code",
      "source": [
        "A=np.zeros((3,2))\n",
        "print(A)"
      ],
      "metadata": {
        "colab": {
          "base_uri": "https://localhost:8080/"
        },
        "id": "nwrcZhh5tdVH",
        "outputId": "fb69a840-22a6-4559-f5e4-7aa34760ccc9"
      },
      "id": "nwrcZhh5tdVH",
      "execution_count": 31,
      "outputs": [
        {
          "output_type": "stream",
          "name": "stdout",
          "text": [
            "[[0. 0.]\n",
            " [0. 0.]\n",
            " [0. 0.]]\n"
          ]
        }
      ]
    },
    {
      "cell_type": "code",
      "source": [
        "# Assembler les tableaux\n",
        "np.hstack((A,B))"
      ],
      "metadata": {
        "colab": {
          "base_uri": "https://localhost:8080/"
        },
        "id": "dLA9OFawuKk8",
        "outputId": "9fab3047-d60f-40eb-81eb-3bb9bf679615"
      },
      "id": "dLA9OFawuKk8",
      "execution_count": 33,
      "outputs": [
        {
          "output_type": "execute_result",
          "data": {
            "text/plain": [
              "array([[0., 0., 1., 1.],\n",
              "       [0., 0., 1., 1.],\n",
              "       [0., 0., 1., 1.]])"
            ]
          },
          "metadata": {},
          "execution_count": 33
        }
      ]
    },
    {
      "cell_type": "code",
      "source": [
        "np.vstack((A,B))"
      ],
      "metadata": {
        "colab": {
          "base_uri": "https://localhost:8080/"
        },
        "id": "4c0EU3zrubwg",
        "outputId": "b152e8a2-a41d-413e-ff5a-905eda6ffc8c"
      },
      "id": "4c0EU3zrubwg",
      "execution_count": 34,
      "outputs": [
        {
          "output_type": "execute_result",
          "data": {
            "text/plain": [
              "array([[0., 0.],\n",
              "       [0., 0.],\n",
              "       [0., 0.],\n",
              "       [1., 1.],\n",
              "       [1., 1.],\n",
              "       [1., 1.]])"
            ]
          },
          "metadata": {},
          "execution_count": 34
        }
      ]
    },
    {
      "cell_type": "code",
      "source": [
        "# Concatener: Concatener c'est a dire combiner des tableaux le long d'un axe donne\n",
        "np.concatenate((A,B),axis=0)"
      ],
      "metadata": {
        "colab": {
          "base_uri": "https://localhost:8080/"
        },
        "id": "O-tNy524u42c",
        "outputId": "61a59271-dbc1-46af-89fd-ad338fbcf069"
      },
      "id": "O-tNy524u42c",
      "execution_count": 35,
      "outputs": [
        {
          "output_type": "execute_result",
          "data": {
            "text/plain": [
              "array([[0., 0.],\n",
              "       [0., 0.],\n",
              "       [0., 0.],\n",
              "       [1., 1.],\n",
              "       [1., 1.],\n",
              "       [1., 1.]])"
            ]
          },
          "metadata": {},
          "execution_count": 35
        }
      ]
    },
    {
      "cell_type": "code",
      "source": [
        "np.concatenate((A,B),axis=1)"
      ],
      "metadata": {
        "colab": {
          "base_uri": "https://localhost:8080/"
        },
        "id": "seh1O1LXvXhy",
        "outputId": "819115be-c04d-4958-d0c3-b05fcef11162"
      },
      "id": "seh1O1LXvXhy",
      "execution_count": 36,
      "outputs": [
        {
          "output_type": "execute_result",
          "data": {
            "text/plain": [
              "array([[0., 0., 1., 1.],\n",
              "       [0., 0., 1., 1.],\n",
              "       [0., 0., 1., 1.]])"
            ]
          },
          "metadata": {},
          "execution_count": 36
        }
      ]
    },
    {
      "cell_type": "code",
      "source": [
        "J=np.concatenate((A,B),axis=0)\n",
        "print(J)"
      ],
      "metadata": {
        "colab": {
          "base_uri": "https://localhost:8080/"
        },
        "id": "cxGHTSAUwyMY",
        "outputId": "dee25141-2a0f-48a4-d3d5-5c0e104e6a9b"
      },
      "id": "cxGHTSAUwyMY",
      "execution_count": 37,
      "outputs": [
        {
          "output_type": "stream",
          "name": "stdout",
          "text": [
            "[[0. 0.]\n",
            " [0. 0.]\n",
            " [0. 0.]\n",
            " [1. 1.]\n",
            " [1. 1.]\n",
            " [1. 1.]]\n"
          ]
        }
      ]
    },
    {
      "cell_type": "code",
      "source": [
        "J.reshape(3,4)"
      ],
      "metadata": {
        "colab": {
          "base_uri": "https://localhost:8080/"
        },
        "id": "iHTq_rVKx45Z",
        "outputId": "1bf86a0f-cb00-40ab-d498-553ded5d83aa"
      },
      "id": "iHTq_rVKx45Z",
      "execution_count": 38,
      "outputs": [
        {
          "output_type": "execute_result",
          "data": {
            "text/plain": [
              "array([[0., 0., 0., 0.],\n",
              "       [0., 0., 1., 1.],\n",
              "       [1., 1., 1., 1.]])"
            ]
          },
          "metadata": {},
          "execution_count": 38
        }
      ]
    },
    {
      "cell_type": "markdown",
      "source": [
        "# a Indexng"
      ],
      "metadata": {
        "id": "SvU3iKHjyQrl"
      },
      "id": "SvU3iKHjyQrl"
    },
    {
      "cell_type": "code",
      "source": [
        "I=np.array([[1,2,3],[4,5,6],[7,8,9]])\n",
        "print(I)"
      ],
      "metadata": {
        "colab": {
          "base_uri": "https://localhost:8080/"
        },
        "id": "M_nmzCpwyWk1",
        "outputId": "c16b8a6b-1070-4e19-b8d8-4be7d15a07bf"
      },
      "id": "M_nmzCpwyWk1",
      "execution_count": 39,
      "outputs": [
        {
          "output_type": "stream",
          "name": "stdout",
          "text": [
            "[[1 2 3]\n",
            " [4 5 6]\n",
            " [7 8 9]]\n"
          ]
        }
      ]
    },
    {
      "cell_type": "code",
      "source": [
        "#Acceder aux elements de notre tableau\n",
        "I[0,0]   # premiere ligne premiere colonne"
      ],
      "metadata": {
        "colab": {
          "base_uri": "https://localhost:8080/"
        },
        "id": "KkWVJtQLyw_V",
        "outputId": "12709a31-c0e2-4c71-e77a-6c757a76878a"
      },
      "id": "KkWVJtQLyw_V",
      "execution_count": 40,
      "outputs": [
        {
          "output_type": "execute_result",
          "data": {
            "text/plain": [
              "np.int64(1)"
            ]
          },
          "metadata": {},
          "execution_count": 40
        }
      ]
    },
    {
      "cell_type": "code",
      "source": [
        "I[0,1]"
      ],
      "metadata": {
        "colab": {
          "base_uri": "https://localhost:8080/"
        },
        "id": "o59ZceMVzKe4",
        "outputId": "81715c82-26c5-45f1-a038-7f51808efdd5"
      },
      "id": "o59ZceMVzKe4",
      "execution_count": 42,
      "outputs": [
        {
          "output_type": "execute_result",
          "data": {
            "text/plain": [
              "np.int64(2)"
            ]
          },
          "metadata": {},
          "execution_count": 42
        }
      ]
    },
    {
      "cell_type": "markdown",
      "source": [
        "# **Silicing**"
      ],
      "metadata": {
        "id": "7tpuQxaVzXJ5"
      },
      "id": "7tpuQxaVzXJ5"
    },
    {
      "cell_type": "code",
      "source": [
        "print(I)"
      ],
      "metadata": {
        "colab": {
          "base_uri": "https://localhost:8080/"
        },
        "id": "EL-Fouqbzenb",
        "outputId": "b52e5cbd-a899-4745-f2b0-654de4bcab11"
      },
      "id": "EL-Fouqbzenb",
      "execution_count": 43,
      "outputs": [
        {
          "output_type": "stream",
          "name": "stdout",
          "text": [
            "[[1 2 3]\n",
            " [4 5 6]\n",
            " [7 8 9]]\n"
          ]
        }
      ]
    },
    {
      "cell_type": "code",
      "source": [
        "# Tous les elements de la premiere colonne\n",
        "I[:,0]\n"
      ],
      "metadata": {
        "colab": {
          "base_uri": "https://localhost:8080/"
        },
        "id": "NjgyiFzyz5pd",
        "outputId": "32c42d5f-7605-4698-99de-636e4a1a58ae"
      },
      "id": "NjgyiFzyz5pd",
      "execution_count": 45,
      "outputs": [
        {
          "output_type": "execute_result",
          "data": {
            "text/plain": [
              "array([1, 4, 7])"
            ]
          },
          "metadata": {},
          "execution_count": 45
        }
      ]
    },
    {
      "cell_type": "code",
      "source": [
        "# tous les elements de la premiere ligne\n",
        "I[0,:]"
      ],
      "metadata": {
        "colab": {
          "base_uri": "https://localhost:8080/"
        },
        "id": "JLFuXSWD0MBE",
        "outputId": "cfbacc15-6c5a-4a99-c2c8-e58c23c4d94d"
      },
      "id": "JLFuXSWD0MBE",
      "execution_count": 46,
      "outputs": [
        {
          "output_type": "execute_result",
          "data": {
            "text/plain": [
              "array([1, 2, 3])"
            ]
          },
          "metadata": {},
          "execution_count": 46
        }
      ]
    },
    {
      "cell_type": "code",
      "source": [
        "I[0:2,0:2]"
      ],
      "metadata": {
        "colab": {
          "base_uri": "https://localhost:8080/"
        },
        "id": "ex3cKlaz1Byq",
        "outputId": "89f7af8b-37a5-4527-cbda-76dec6405ee7"
      },
      "id": "ex3cKlaz1Byq",
      "execution_count": 47,
      "outputs": [
        {
          "output_type": "execute_result",
          "data": {
            "text/plain": [
              "array([[1, 2],\n",
              "       [4, 5]])"
            ]
          },
          "metadata": {},
          "execution_count": 47
        }
      ]
    },
    {
      "cell_type": "code",
      "source": [
        "H=np.zeros((4,4))\n",
        "print(H)"
      ],
      "metadata": {
        "colab": {
          "base_uri": "https://localhost:8080/"
        },
        "id": "fjOCU9sx3cn_",
        "outputId": "d8e5788f-8b7a-4054-f45b-3d75896e9c59"
      },
      "id": "fjOCU9sx3cn_",
      "execution_count": 48,
      "outputs": [
        {
          "output_type": "stream",
          "name": "stdout",
          "text": [
            "[[0. 0. 0. 0.]\n",
            " [0. 0. 0. 0.]\n",
            " [0. 0. 0. 0.]\n",
            " [0. 0. 0. 0.]]\n"
          ]
        }
      ]
    },
    {
      "cell_type": "code",
      "source": [
        "H[1:3,1:3]=1\n",
        "print(H)"
      ],
      "metadata": {
        "colab": {
          "base_uri": "https://localhost:8080/"
        },
        "id": "Ax1zbMGN3pYU",
        "outputId": "f21b2b3e-cf53-4605-d31e-0a2bf659ebfc"
      },
      "id": "Ax1zbMGN3pYU",
      "execution_count": 52,
      "outputs": [
        {
          "output_type": "stream",
          "name": "stdout",
          "text": [
            "[[0. 0. 0. 0.]\n",
            " [0. 1. 1. 0.]\n",
            " [0. 1. 1. 0.]\n",
            " [0. 0. 0. 0.]]\n"
          ]
        }
      ]
    },
    {
      "cell_type": "code",
      "source": [
        "H[2:,2:]=2\n",
        "print(H)"
      ],
      "metadata": {
        "colab": {
          "base_uri": "https://localhost:8080/"
        },
        "id": "ihK0KR_s4gOX",
        "outputId": "ffa19fe2-7085-43cc-cf27-bb2fad34bd06"
      },
      "id": "ihK0KR_s4gOX",
      "execution_count": 55,
      "outputs": [
        {
          "output_type": "stream",
          "name": "stdout",
          "text": [
            "[[0. 0. 0. 0.]\n",
            " [0. 1. 1. 0.]\n",
            " [0. 1. 2. 2.]\n",
            " [0. 0. 2. 2.]]\n"
          ]
        }
      ]
    },
    {
      "cell_type": "markdown",
      "source": [
        "#** Mathematiques et Statistiques**"
      ],
      "metadata": {
        "id": "Q0PnaR9l_9Cr"
      },
      "id": "Q0PnaR9l_9Cr"
    },
    {
      "cell_type": "code",
      "source": [
        "import numpy as np\n",
        "A=np.random.seed(0)\n",
        "A=np.random.randint(0,10,[2,3])\n",
        "print(A)"
      ],
      "metadata": {
        "colab": {
          "base_uri": "https://localhost:8080/"
        },
        "id": "8wZv3_dDAOOS",
        "outputId": "6a936ef7-1cff-4c89-8c01-647876ed3ba5"
      },
      "id": "8wZv3_dDAOOS",
      "execution_count": 56,
      "outputs": [
        {
          "output_type": "stream",
          "name": "stdout",
          "text": [
            "[[5 0 3]\n",
            " [3 7 9]]\n"
          ]
        }
      ]
    },
    {
      "cell_type": "code",
      "source": [
        "# Somme de tous les elements\n",
        "A.sum()"
      ],
      "metadata": {
        "colab": {
          "base_uri": "https://localhost:8080/"
        },
        "id": "GmezVpD_A-0y",
        "outputId": "9c0b6eff-a762-4a9c-93c0-c8d5af1797c3"
      },
      "id": "GmezVpD_A-0y",
      "execution_count": 57,
      "outputs": [
        {
          "output_type": "execute_result",
          "data": {
            "text/plain": [
              "np.int64(27)"
            ]
          },
          "metadata": {},
          "execution_count": 57
        }
      ]
    },
    {
      "cell_type": "code",
      "source": [
        "# Somme au niveau des colonnes\n",
        "A.sum(axis=0)"
      ],
      "metadata": {
        "colab": {
          "base_uri": "https://localhost:8080/"
        },
        "id": "dAljcQN_BTEe",
        "outputId": "41568d95-4ad4-40b3-a9fd-3d9a4e01760d"
      },
      "id": "dAljcQN_BTEe",
      "execution_count": 58,
      "outputs": [
        {
          "output_type": "execute_result",
          "data": {
            "text/plain": [
              "array([ 8,  7, 12])"
            ]
          },
          "metadata": {},
          "execution_count": 58
        }
      ]
    },
    {
      "cell_type": "code",
      "source": [
        "# produit\n",
        "A.prod()"
      ],
      "metadata": {
        "colab": {
          "base_uri": "https://localhost:8080/"
        },
        "id": "U08XG5U3BozI",
        "outputId": "a55b0c33-7578-4f32-ac14-8dee7410d3d4"
      },
      "id": "U08XG5U3BozI",
      "execution_count": 59,
      "outputs": [
        {
          "output_type": "execute_result",
          "data": {
            "text/plain": [
              "np.int64(0)"
            ]
          },
          "metadata": {},
          "execution_count": 59
        }
      ]
    },
    {
      "cell_type": "code",
      "source": [
        "# Maximum\n",
        "A.max()"
      ],
      "metadata": {
        "colab": {
          "base_uri": "https://localhost:8080/"
        },
        "id": "ql9GTg7sCCe1",
        "outputId": "5a3762f2-c098-4807-d498-734bacf81d50"
      },
      "id": "ql9GTg7sCCe1",
      "execution_count": 60,
      "outputs": [
        {
          "output_type": "execute_result",
          "data": {
            "text/plain": [
              "np.int64(9)"
            ]
          },
          "metadata": {},
          "execution_count": 60
        }
      ]
    },
    {
      "cell_type": "code",
      "source": [
        "# Minimum\n",
        "A.min()"
      ],
      "metadata": {
        "colab": {
          "base_uri": "https://localhost:8080/"
        },
        "id": "SXrt0YYKCQmT",
        "outputId": "e72801a5-7c9d-4233-c2a3-a7ec9c45dd44"
      },
      "id": "SXrt0YYKCQmT",
      "execution_count": 61,
      "outputs": [
        {
          "output_type": "execute_result",
          "data": {
            "text/plain": [
              "np.int64(0)"
            ]
          },
          "metadata": {},
          "execution_count": 61
        }
      ]
    },
    {
      "cell_type": "code",
      "source": [
        "# Moyenne\n",
        "A.mean()"
      ],
      "metadata": {
        "colab": {
          "base_uri": "https://localhost:8080/"
        },
        "id": "vQYj_NOhCddE",
        "outputId": "7d29a809-7d63-4a64-8656-58f00720411f"
      },
      "id": "vQYj_NOhCddE",
      "execution_count": 62,
      "outputs": [
        {
          "output_type": "execute_result",
          "data": {
            "text/plain": [
              "np.float64(4.5)"
            ]
          },
          "metadata": {},
          "execution_count": 62
        }
      ]
    },
    {
      "cell_type": "code",
      "source": [
        "# Variance\n",
        "A.var()"
      ],
      "metadata": {
        "colab": {
          "base_uri": "https://localhost:8080/"
        },
        "id": "DwWzKzkHCzVb",
        "outputId": "8bf99293-5552-40b5-f50e-97318d6e8350"
      },
      "id": "DwWzKzkHCzVb",
      "execution_count": 63,
      "outputs": [
        {
          "output_type": "execute_result",
          "data": {
            "text/plain": [
              "np.float64(8.583333333333334)"
            ]
          },
          "metadata": {},
          "execution_count": 63
        }
      ]
    },
    {
      "cell_type": "code",
      "source": [
        "# Ecart-type\n",
        "A.std()"
      ],
      "metadata": {
        "colab": {
          "base_uri": "https://localhost:8080/"
        },
        "id": "HnBmg_PlC-no",
        "outputId": "185db99e-2b0d-4508-8377-6c9e543d366c"
      },
      "id": "HnBmg_PlC-no",
      "execution_count": 64,
      "outputs": [
        {
          "output_type": "execute_result",
          "data": {
            "text/plain": [
              "np.float64(2.9297326385411577)"
            ]
          },
          "metadata": {},
          "execution_count": 64
        }
      ]
    },
    {
      "cell_type": "code",
      "source": [
        "from ast import Index\n",
        "# index de la valeur minimale\n",
        "Index_valeurmin=np.argmin(A)\n",
        "print((Index_valeurmin))"
      ],
      "metadata": {
        "colab": {
          "base_uri": "https://localhost:8080/"
        },
        "id": "Sb7u-plSDJBV",
        "outputId": "7ad46e47-c7dc-4ce9-c09e-7f60283fefc1"
      },
      "id": "Sb7u-plSDJBV",
      "execution_count": 65,
      "outputs": [
        {
          "output_type": "stream",
          "name": "stdout",
          "text": [
            "1\n"
          ]
        }
      ]
    }
  ],
  "metadata": {
    "kernelspec": {
      "display_name": "Python 3 (ipykernel)",
      "language": "python",
      "name": "python3"
    },
    "language_info": {
      "codemirror_mode": {
        "name": "ipython",
        "version": 3
      },
      "file_extension": ".py",
      "mimetype": "text/x-python",
      "name": "python",
      "nbconvert_exporter": "python",
      "pygments_lexer": "ipython3",
      "version": "3.10.9"
    },
    "colab": {
      "provenance": [],
      "include_colab_link": true
    }
  },
  "nbformat": 4,
  "nbformat_minor": 5
}